{
  "cells": [
    {
      "cell_type": "markdown",
      "metadata": {
        "id": "view-in-github",
        "colab_type": "text"
      },
      "source": [
        "<a href=\"https://colab.research.google.com/github/nadialaban/hse_hw1_meth/blob/main/notebook.ipynb\" target=\"_parent\"><img src=\"https://colab.research.google.com/assets/colab-badge.svg\" alt=\"Open In Colab\"/></a>"
      ]
    },
    {
      "cell_type": "markdown",
      "metadata": {
        "id": "CLLeQw9Mxab4"
      },
      "source": [
        "## Ссылка на диск с картированными чтениями"
      ]
    },
    {
      "cell_type": "markdown",
      "metadata": {
        "id": "iX7NcoC_CLY0"
      },
      "source": [
        "\n",
        "| | SRA accession  | Stage    |\n",
        "|---:|:-------------|:-----------|\n",
        "| 1 | SRR5836473  | 8 cell       |\n",
        "| 2 | SRR3824222 | Epiblast    |\n",
        "| 3 | SRR5836475  | ICM       |\n"
      ]
    },
    {
      "cell_type": "markdown",
      "metadata": {
        "id": "RQAK_lggxsXi"
      },
      "source": [
        "[Bam-файлы и отчеты](https://drive.google.com/drive/folders/1athn52a93obOwfuHynDCRPRhjAPB80aO?usp=sharing)"
      ]
    },
    {
      "cell_type": "markdown",
      "metadata": {
        "id": "5l0a7C6JHe40"
      },
      "source": [
        "# Установка FastQC"
      ]
    },
    {
      "cell_type": "code",
      "execution_count": null,
      "metadata": {
        "colab": {
          "base_uri": "https://localhost:8080/"
        },
        "id": "esYQuHKO8nAg",
        "outputId": "312f33ab-18bd-4dad-85d9-7c046ec8d8a8"
      },
      "outputs": [
        {
          "name": "stdout",
          "output_type": "stream",
          "text": [
            "--2022-02-02 09:25:39--  https://www.bioinformatics.babraham.ac.uk/projects/fastqc/fastqc_v0.11.9.zip\n",
            "Resolving www.bioinformatics.babraham.ac.uk (www.bioinformatics.babraham.ac.uk)... 149.155.133.4\n",
            "Connecting to www.bioinformatics.babraham.ac.uk (www.bioinformatics.babraham.ac.uk)|149.155.133.4|:443... connected.\n",
            "HTTP request sent, awaiting response... 200 OK\n",
            "Length: 10249221 (9.8M) [application/zip]\n",
            "Saving to: ‘fastqc_v0.11.9.zip’\n",
            "\n",
            "fastqc_v0.11.9.zip  100%[===================>]   9.77M  6.66MB/s    in 1.5s    \n",
            "\n",
            "2022-02-02 09:25:40 (6.66 MB/s) - ‘fastqc_v0.11.9.zip’ saved [10249221/10249221]\n",
            "\n",
            "Archive:  fastqc_v0.11.9.zip\n",
            "  inflating: FastQC/cisd-jhdf5.jar   \n",
            "   creating: FastQC/Configuration/\n",
            "  inflating: FastQC/Configuration/adapter_list.txt  \n",
            "  inflating: FastQC/Configuration/contaminant_list.txt  \n",
            "  inflating: FastQC/Configuration/limits.txt  \n",
            "  inflating: FastQC/fastqc           \n",
            "  inflating: FastQC/fastqc_icon.ico  \n",
            "   creating: FastQC/Help/\n",
            "   creating: FastQC/Help/1 Introduction/\n",
            "   creating: FastQC/Help/1 Introduction/.svn/\n",
            "  inflating: FastQC/Help/1 Introduction/.svn/entries  \n",
            "   creating: FastQC/Help/1 Introduction/.svn/props/\n",
            "   creating: FastQC/Help/1 Introduction/.svn/text-base/\n",
            "  inflating: FastQC/Help/1 Introduction/.svn/text-base/1.1 What is FastQC.html.svn-base  \n",
            "   creating: FastQC/Help/1 Introduction/.svn/tmp/\n",
            "   creating: FastQC/Help/1 Introduction/.svn/tmp/props/\n",
            "  inflating: FastQC/Help/1 Introduction/1.1 What is FastQC.html  \n",
            "   creating: FastQC/Help/2 Basic Operations/\n",
            "   creating: FastQC/Help/2 Basic Operations/.svn/\n",
            "  inflating: FastQC/Help/2 Basic Operations/.svn/entries  \n",
            "   creating: FastQC/Help/2 Basic Operations/.svn/props/\n",
            "   creating: FastQC/Help/2 Basic Operations/.svn/text-base/\n",
            "  inflating: FastQC/Help/2 Basic Operations/.svn/text-base/2.1 Opening a sequence file.html.svn-base  \n",
            "  inflating: FastQC/Help/2 Basic Operations/.svn/text-base/2.2 Evaluating Results.html.svn-base  \n",
            "  inflating: FastQC/Help/2 Basic Operations/.svn/text-base/2.3 Saving a Report.html.svn-base  \n",
            "   creating: FastQC/Help/2 Basic Operations/.svn/tmp/\n",
            "   creating: FastQC/Help/2 Basic Operations/.svn/tmp/props/\n",
            "  inflating: FastQC/Help/2 Basic Operations/2.1 Opening a sequence file.html  \n",
            "  inflating: FastQC/Help/2 Basic Operations/2.2 Evaluating Results.html  \n",
            "  inflating: FastQC/Help/2 Basic Operations/2.3 Saving a Report.html  \n",
            "   creating: FastQC/Help/3 Analysis Modules/\n",
            "   creating: FastQC/Help/3 Analysis Modules/.svn/\n",
            "  inflating: FastQC/Help/3 Analysis Modules/.svn/entries  \n",
            "   creating: FastQC/Help/3 Analysis Modules/.svn/prop-base/\n",
            " extracting: FastQC/Help/3 Analysis Modules/.svn/prop-base/duplication_levels.png.svn-base  \n",
            "  inflating: FastQC/Help/3 Analysis Modules/.svn/prop-base/kmer_profiles.png.svn-base  \n",
            " extracting: FastQC/Help/3 Analysis Modules/.svn/prop-base/per_base_gc_content.png.svn-base  \n",
            " extracting: FastQC/Help/3 Analysis Modules/.svn/prop-base/per_base_n_content.png.svn-base  \n",
            " extracting: FastQC/Help/3 Analysis Modules/.svn/prop-base/per_base_quality.png.svn-base  \n",
            " extracting: FastQC/Help/3 Analysis Modules/.svn/prop-base/per_base_sequence_content.png.svn-base  \n",
            " extracting: FastQC/Help/3 Analysis Modules/.svn/prop-base/per_sequence_gc_content.png.svn-base  \n",
            " extracting: FastQC/Help/3 Analysis Modules/.svn/prop-base/per_sequence_quality.png.svn-base  \n",
            " extracting: FastQC/Help/3 Analysis Modules/.svn/prop-base/per_tile_quality.png.svn-base  \n",
            " extracting: FastQC/Help/3 Analysis Modules/.svn/prop-base/sequence_length_distribution.png.svn-base  \n",
            "   creating: FastQC/Help/3 Analysis Modules/.svn/props/\n",
            "   creating: FastQC/Help/3 Analysis Modules/.svn/text-base/\n",
            "  inflating: FastQC/Help/3 Analysis Modules/.svn/text-base/1 Basic Statistics.html.svn-base  \n",
            "  inflating: FastQC/Help/3 Analysis Modules/.svn/text-base/10 Adapter Content.html.svn-base  \n",
            "  inflating: FastQC/Help/3 Analysis Modules/.svn/text-base/11 Kmer Content.html.svn-base  \n",
            "  inflating: FastQC/Help/3 Analysis Modules/.svn/text-base/12 Per Tile Sequence Quality.html.svn-base  \n",
            "  inflating: FastQC/Help/3 Analysis Modules/.svn/text-base/2 Per Base Sequence Quality.html.svn-base  \n",
            "  inflating: FastQC/Help/3 Analysis Modules/.svn/text-base/3 Per Sequence Quality Scores.html.svn-base  \n",
            "  inflating: FastQC/Help/3 Analysis Modules/.svn/text-base/4 Per Base Sequence Content.html.svn-base  \n",
            "  inflating: FastQC/Help/3 Analysis Modules/.svn/text-base/5 Per Sequence GC Content.html.svn-base  \n",
            "  inflating: FastQC/Help/3 Analysis Modules/.svn/text-base/6 Per Base N Content.html.svn-base  \n",
            "  inflating: FastQC/Help/3 Analysis Modules/.svn/text-base/7 Sequence Length Distribution.html.svn-base  \n",
            "  inflating: FastQC/Help/3 Analysis Modules/.svn/text-base/8 Duplicate Sequences.html.svn-base  \n",
            "  inflating: FastQC/Help/3 Analysis Modules/.svn/text-base/9 Overrepresented Sequences.html.svn-base  \n",
            "  inflating: FastQC/Help/3 Analysis Modules/.svn/text-base/duplication_levels.png.svn-base  \n",
            "  inflating: FastQC/Help/3 Analysis Modules/.svn/text-base/kmer_profiles.png.svn-base  \n",
            "  inflating: FastQC/Help/3 Analysis Modules/.svn/text-base/per_base_gc_content.png.svn-base  \n",
            "  inflating: FastQC/Help/3 Analysis Modules/.svn/text-base/per_base_n_content.png.svn-base  \n",
            "  inflating: FastQC/Help/3 Analysis Modules/.svn/text-base/per_base_quality.png.svn-base  \n",
            "  inflating: FastQC/Help/3 Analysis Modules/.svn/text-base/per_base_sequence_content.png.svn-base  \n",
            "  inflating: FastQC/Help/3 Analysis Modules/.svn/text-base/per_sequence_gc_content.png.svn-base  \n",
            "  inflating: FastQC/Help/3 Analysis Modules/.svn/text-base/per_sequence_quality.png.svn-base  \n",
            "  inflating: FastQC/Help/3 Analysis Modules/.svn/text-base/per_tile_quality.png.svn-base  \n",
            "  inflating: FastQC/Help/3 Analysis Modules/.svn/text-base/sequence_length_distribution.png.svn-base  \n",
            "   creating: FastQC/Help/3 Analysis Modules/.svn/tmp/\n",
            "   creating: FastQC/Help/3 Analysis Modules/.svn/tmp/props/\n",
            "  inflating: FastQC/Help/3 Analysis Modules/1 Basic Statistics.html  \n",
            "  inflating: FastQC/Help/3 Analysis Modules/10 Adapter Content.html  \n",
            "  inflating: FastQC/Help/3 Analysis Modules/11 Kmer Content.html  \n",
            "  inflating: FastQC/Help/3 Analysis Modules/12 Per Tile Sequence Quality.html  \n",
            "  inflating: FastQC/Help/3 Analysis Modules/2 Per Base Sequence Quality.html  \n",
            "  inflating: FastQC/Help/3 Analysis Modules/3 Per Sequence Quality Scores.html  \n",
            "  inflating: FastQC/Help/3 Analysis Modules/4 Per Base Sequence Content.html  \n",
            "  inflating: FastQC/Help/3 Analysis Modules/5 Per Sequence GC Content.html  \n",
            "  inflating: FastQC/Help/3 Analysis Modules/6 Per Base N Content.html  \n",
            "  inflating: FastQC/Help/3 Analysis Modules/7 Sequence Length Distribution.html  \n",
            "  inflating: FastQC/Help/3 Analysis Modules/8 Duplicate Sequences.html  \n",
            "  inflating: FastQC/Help/3 Analysis Modules/9 Overrepresented Sequences.html  \n",
            "  inflating: FastQC/Help/3 Analysis Modules/duplication_levels.png  \n",
            "  inflating: FastQC/Help/3 Analysis Modules/kmer_profiles.png  \n",
            "  inflating: FastQC/Help/3 Analysis Modules/per_base_gc_content.png  \n",
            "  inflating: FastQC/Help/3 Analysis Modules/per_base_n_content.png  \n",
            "  inflating: FastQC/Help/3 Analysis Modules/per_base_quality.png  \n",
            "  inflating: FastQC/Help/3 Analysis Modules/per_base_sequence_content.png  \n",
            "  inflating: FastQC/Help/3 Analysis Modules/per_sequence_gc_content.png  \n",
            "  inflating: FastQC/Help/3 Analysis Modules/per_sequence_quality.png  \n",
            "  inflating: FastQC/Help/3 Analysis Modules/per_tile_quality.png  \n",
            "  inflating: FastQC/Help/3 Analysis Modules/sequence_length_distribution.png  \n",
            "  inflating: FastQC/INSTALL.txt      \n",
            "  inflating: FastQC/jbzip2-0.9.jar   \n",
            "  inflating: FastQC/LICENSE          \n",
            "  inflating: FastQC/LICENSE.txt      \n",
            "  inflating: FastQC/LICENSE_JHDF5.txt  \n",
            "   creating: FastQC/net/\n",
            "   creating: FastQC/net/sourceforge/\n",
            "   creating: FastQC/net/sourceforge/iharder/\n",
            "   creating: FastQC/net/sourceforge/iharder/base64/\n",
            "  inflating: FastQC/net/sourceforge/iharder/base64/Base64$1.class  \n",
            "  inflating: FastQC/net/sourceforge/iharder/base64/Base64$InputStream.class  \n",
            "  inflating: FastQC/net/sourceforge/iharder/base64/Base64$OutputStream.class  \n",
            "  inflating: FastQC/net/sourceforge/iharder/base64/Base64.class  \n",
            "   creating: FastQC/org/\n",
            "   creating: FastQC/org/apache/\n",
            "   creating: FastQC/org/apache/commons/\n",
            "   creating: FastQC/org/apache/commons/math3/\n",
            "   creating: FastQC/org/apache/commons/math3/analysis/\n",
            "   creating: FastQC/org/apache/commons/math3/analysis/solvers/\n",
            "  inflating: FastQC/org/apache/commons/math3/analysis/solvers/AbstractUnivariateSolver.class  \n",
            "  inflating: FastQC/org/apache/commons/math3/analysis/solvers/AllowedSolution.class  \n",
            "  inflating: FastQC/org/apache/commons/math3/analysis/solvers/BaseAbstractUnivariateSolver.class  \n",
            "  inflating: FastQC/org/apache/commons/math3/analysis/solvers/BaseUnivariateSolver.class  \n",
            "  inflating: FastQC/org/apache/commons/math3/analysis/solvers/BracketedUnivariateSolver.class  \n",
            "  inflating: FastQC/org/apache/commons/math3/analysis/solvers/BrentSolver.class  \n",
            "  inflating: FastQC/org/apache/commons/math3/analysis/solvers/UnivariateSolver.class  \n",
            "  inflating: FastQC/org/apache/commons/math3/analysis/solvers/UnivariateSolverUtils.class  \n",
            "  inflating: FastQC/org/apache/commons/math3/analysis/UnivariateFunction.class  \n",
            "   creating: FastQC/org/apache/commons/math3/distribution/\n",
            "  inflating: FastQC/org/apache/commons/math3/distribution/AbstractIntegerDistribution.class  \n",
            "  inflating: FastQC/org/apache/commons/math3/distribution/AbstractRealDistribution$1.class  \n",
            "  inflating: FastQC/org/apache/commons/math3/distribution/AbstractRealDistribution.class  \n",
            "  inflating: FastQC/org/apache/commons/math3/distribution/BetaDistribution.class  \n",
            "  inflating: FastQC/org/apache/commons/math3/distribution/BinomialDistribution.class  \n",
            "  inflating: FastQC/org/apache/commons/math3/distribution/CauchyDistribution.class  \n",
            "  inflating: FastQC/org/apache/commons/math3/distribution/ChiSquaredDistribution.class  \n",
            "  inflating: FastQC/org/apache/commons/math3/distribution/FDistribution.class  \n",
            "  inflating: FastQC/org/apache/commons/math3/distribution/GammaDistribution.class  \n",
            "  inflating: FastQC/org/apache/commons/math3/distribution/HypergeometricDistribution.class  \n",
            "  inflating: FastQC/org/apache/commons/math3/distribution/IntegerDistribution.class  \n",
            "  inflating: FastQC/org/apache/commons/math3/distribution/NormalDistribution.class  \n",
            "  inflating: FastQC/org/apache/commons/math3/distribution/PascalDistribution.class  \n",
            "  inflating: FastQC/org/apache/commons/math3/distribution/PoissonDistribution.class  \n",
            "  inflating: FastQC/org/apache/commons/math3/distribution/RealDistribution.class  \n",
            "  inflating: FastQC/org/apache/commons/math3/distribution/SaddlePointExpansion.class  \n",
            "  inflating: FastQC/org/apache/commons/math3/distribution/TDistribution.class  \n",
            "  inflating: FastQC/org/apache/commons/math3/distribution/WeibullDistribution.class  \n",
            "  inflating: FastQC/org/apache/commons/math3/distribution/ZipfDistribution.class  \n",
            "   creating: FastQC/org/apache/commons/math3/exception/\n",
            "  inflating: FastQC/org/apache/commons/math3/exception/ConvergenceException.class  \n",
            "  inflating: FastQC/org/apache/commons/math3/exception/DimensionMismatchException.class  \n",
            "  inflating: FastQC/org/apache/commons/math3/exception/MathArithmeticException.class  \n",
            "  inflating: FastQC/org/apache/commons/math3/exception/MathIllegalArgumentException.class  \n",
            "  inflating: FastQC/org/apache/commons/math3/exception/MathIllegalNumberException.class  \n",
            "  inflating: FastQC/org/apache/commons/math3/exception/MathIllegalStateException.class  \n",
            "  inflating: FastQC/org/apache/commons/math3/exception/MathInternalError.class  \n",
            "  inflating: FastQC/org/apache/commons/math3/exception/MaxCountExceededException.class  \n",
            "  inflating: FastQC/org/apache/commons/math3/exception/NoBracketingException.class  \n",
            "  inflating: FastQC/org/apache/commons/math3/exception/NotFiniteNumberException.class  \n",
            "  inflating: FastQC/org/apache/commons/math3/exception/NotPositiveException.class  \n",
            "  inflating: FastQC/org/apache/commons/math3/exception/NotStrictlyPositiveException.class  \n",
            "  inflating: FastQC/org/apache/commons/math3/exception/NullArgumentException.class  \n",
            "  inflating: FastQC/org/apache/commons/math3/exception/NumberIsTooLargeException.class  \n",
            "  inflating: FastQC/org/apache/commons/math3/exception/NumberIsTooSmallException.class  \n",
            "  inflating: FastQC/org/apache/commons/math3/exception/OutOfRangeException.class  \n",
            "  inflating: FastQC/org/apache/commons/math3/exception/TooManyEvaluationsException.class  \n",
            "   creating: FastQC/org/apache/commons/math3/exception/util/\n",
            "  inflating: FastQC/org/apache/commons/math3/exception/util/ArgUtils.class  \n",
            "  inflating: FastQC/org/apache/commons/math3/exception/util/ExceptionContext.class  \n",
            "  inflating: FastQC/org/apache/commons/math3/exception/util/ExceptionContextProvider.class  \n",
            "  inflating: FastQC/org/apache/commons/math3/exception/util/Localizable.class  \n",
            "  inflating: FastQC/org/apache/commons/math3/exception/util/LocalizedFormats.class  \n",
            "   creating: FastQC/org/apache/commons/math3/random/\n",
            "  inflating: FastQC/org/apache/commons/math3/random/AbstractWell.class  \n",
            "  inflating: FastQC/org/apache/commons/math3/random/BitsStreamGenerator.class  \n",
            "  inflating: FastQC/org/apache/commons/math3/random/RandomData.class  \n",
            "  inflating: FastQC/org/apache/commons/math3/random/RandomDataImpl.class  \n",
            "  inflating: FastQC/org/apache/commons/math3/random/RandomGenerator.class  \n",
            "  inflating: FastQC/org/apache/commons/math3/random/Well19937c.class  \n",
            "   creating: FastQC/org/apache/commons/math3/special/\n",
            "  inflating: FastQC/org/apache/commons/math3/special/Beta$1.class  \n",
            "  inflating: FastQC/org/apache/commons/math3/special/Beta.class  \n",
            "  inflating: FastQC/org/apache/commons/math3/special/Erf.class  \n",
            "  inflating: FastQC/org/apache/commons/math3/special/Gamma$1.class  \n",
            "  inflating: FastQC/org/apache/commons/math3/special/Gamma.class  \n",
            "   creating: FastQC/org/apache/commons/math3/util/\n",
            "  inflating: FastQC/org/apache/commons/math3/util/ArithmeticUtils.class  \n",
            "  inflating: FastQC/org/apache/commons/math3/util/ContinuedFraction.class  \n",
            "  inflating: FastQC/org/apache/commons/math3/util/DoubleArray.class  \n",
            "  inflating: FastQC/org/apache/commons/math3/util/FastMath$ExpFracTable.class  \n",
            "  inflating: FastQC/org/apache/commons/math3/util/FastMath$ExpIntTable.class  \n",
            "  inflating: FastQC/org/apache/commons/math3/util/FastMath$lnMant.class  \n",
            "  inflating: FastQC/org/apache/commons/math3/util/FastMath.class  \n",
            "  inflating: FastQC/org/apache/commons/math3/util/FastMathCalc.class  \n",
            "  inflating: FastQC/org/apache/commons/math3/util/FastMathLiteralArrays.class  \n",
            "  inflating: FastQC/org/apache/commons/math3/util/Incrementor$1.class  \n",
            "  inflating: FastQC/org/apache/commons/math3/util/Incrementor$MaxCountExceededCallback.class  \n",
            "  inflating: FastQC/org/apache/commons/math3/util/Incrementor.class  \n",
            "  inflating: FastQC/org/apache/commons/math3/util/MathUtils.class  \n",
            "  inflating: FastQC/org/apache/commons/math3/util/Precision.class  \n",
            "  inflating: FastQC/org/apache/commons/math3/util/ResizableDoubleArray.class  \n",
            "  inflating: FastQC/README.md        \n",
            "  inflating: FastQC/README.txt       \n",
            "  inflating: FastQC/RELEASE_NOTES.txt  \n",
            "  inflating: FastQC/run_fastqc.bat   \n",
            "  inflating: FastQC/sam-1.103.jar    \n",
            "   creating: FastQC/Templates/\n",
            "  inflating: FastQC/Templates/fastqc2fo.xsl  \n",
            "  inflating: FastQC/Templates/header_template.html  \n",
            "   creating: FastQC/Templates/Icons/\n",
            " extracting: FastQC/Templates/Icons/error.png  \n",
            " extracting: FastQC/Templates/Icons/fastqc_icon.png  \n",
            " extracting: FastQC/Templates/Icons/tick.png  \n",
            " extracting: FastQC/Templates/Icons/warning.png  \n",
            "   creating: FastQC/uk/\n",
            "   creating: FastQC/uk/ac/\n",
            "   creating: FastQC/uk/ac/babraham/\n",
            "   creating: FastQC/uk/ac/babraham/FastQC/\n",
            "   creating: FastQC/uk/ac/babraham/FastQC/Analysis/\n",
            "  inflating: FastQC/uk/ac/babraham/FastQC/Analysis/AnalysisListener.class  \n",
            "  inflating: FastQC/uk/ac/babraham/FastQC/Analysis/AnalysisQueue.class  \n",
            "  inflating: FastQC/uk/ac/babraham/FastQC/Analysis/AnalysisRunner.class  \n",
            "  inflating: FastQC/uk/ac/babraham/FastQC/Analysis/OfflineRunner.class  \n",
            "   creating: FastQC/uk/ac/babraham/FastQC/Dialogs/\n",
            "  inflating: FastQC/uk/ac/babraham/FastQC/Dialogs/AboutDialog$1.class  \n",
            "  inflating: FastQC/uk/ac/babraham/FastQC/Dialogs/AboutDialog.class  \n",
            "  inflating: FastQC/uk/ac/babraham/FastQC/Dialogs/FastQCTitlePanel$SmoothJLabel.class  \n",
            "  inflating: FastQC/uk/ac/babraham/FastQC/Dialogs/FastQCTitlePanel.class  \n",
            "  inflating: FastQC/uk/ac/babraham/FastQC/Dialogs/WelcomePanel.class  \n",
            "  inflating: FastQC/uk/ac/babraham/FastQC/FastQCApplication$1.class  \n",
            "  inflating: FastQC/uk/ac/babraham/FastQC/FastQCApplication.class  \n",
            "  inflating: FastQC/uk/ac/babraham/FastQC/FastQCConfig.class  \n",
            "  inflating: FastQC/uk/ac/babraham/FastQC/FastQCMenuBar.class  \n",
            "   creating: FastQC/uk/ac/babraham/FastQC/FileFilters/\n",
            "  inflating: FastQC/uk/ac/babraham/FastQC/FileFilters/BAMFileFilter.class  \n",
            "  inflating: FastQC/uk/ac/babraham/FastQC/FileFilters/CasavaFastQFileFilter.class  \n",
            "  inflating: FastQC/uk/ac/babraham/FastQC/FileFilters/FastQFileFilter.class  \n",
            "  inflating: FastQC/uk/ac/babraham/FastQC/FileFilters/GobyFileFilter.class  \n",
            "  inflating: FastQC/uk/ac/babraham/FastQC/FileFilters/MappedBAMFileFilter.class  \n",
            "  inflating: FastQC/uk/ac/babraham/FastQC/FileFilters/SequenceFileFilter.class  \n",
            "   creating: FastQC/uk/ac/babraham/FastQC/Graphs/\n",
            "  inflating: FastQC/uk/ac/babraham/FastQC/Graphs/BaseGroup.class  \n",
            "  inflating: FastQC/uk/ac/babraham/FastQC/Graphs/LineGraph.class  \n",
            "  inflating: FastQC/uk/ac/babraham/FastQC/Graphs/QualityBoxPlot.class  \n",
            "  inflating: FastQC/uk/ac/babraham/FastQC/Graphs/TileGraph.class  \n",
            "   creating: FastQC/uk/ac/babraham/FastQC/Help/\n",
            "  inflating: FastQC/uk/ac/babraham/FastQC/Help/HelpDialog.class  \n",
            "  inflating: FastQC/uk/ac/babraham/FastQC/Help/HelpIndexRoot$FileSorter.class  \n",
            "  inflating: FastQC/uk/ac/babraham/FastQC/Help/HelpIndexRoot.class  \n",
            "  inflating: FastQC/uk/ac/babraham/FastQC/Help/HelpPage.class  \n",
            "  inflating: FastQC/uk/ac/babraham/FastQC/Help/HelpPageDisplay$HelpEditor.class  \n",
            "  inflating: FastQC/uk/ac/babraham/FastQC/Help/HelpPageDisplay.class  \n",
            "  inflating: FastQC/uk/ac/babraham/FastQC/Help/HelpSearchPanel.class  \n",
            "   creating: FastQC/uk/ac/babraham/FastQC/Modules/\n",
            "  inflating: FastQC/uk/ac/babraham/FastQC/Modules/AbstractQCModule.class  \n",
            "  inflating: FastQC/uk/ac/babraham/FastQC/Modules/AdapterContent$Adapter.class  \n",
            "  inflating: FastQC/uk/ac/babraham/FastQC/Modules/AdapterContent$ResultsTable.class  \n",
            "  inflating: FastQC/uk/ac/babraham/FastQC/Modules/AdapterContent.class  \n",
            "  inflating: FastQC/uk/ac/babraham/FastQC/Modules/BasicStats$ResultsTable.class  \n",
            "  inflating: FastQC/uk/ac/babraham/FastQC/Modules/BasicStats.class  \n",
            "  inflating: FastQC/uk/ac/babraham/FastQC/Modules/DuplicationLevel.class  \n",
            "   creating: FastQC/uk/ac/babraham/FastQC/Modules/GCModel/\n",
            "  inflating: FastQC/uk/ac/babraham/FastQC/Modules/GCModel/GCModel.class  \n",
            "  inflating: FastQC/uk/ac/babraham/FastQC/Modules/GCModel/GCModelValue.class  \n",
            "  inflating: FastQC/uk/ac/babraham/FastQC/Modules/KmerContent$Kmer.class  \n",
            "  inflating: FastQC/uk/ac/babraham/FastQC/Modules/KmerContent$ResultsTable.class  \n",
            "  inflating: FastQC/uk/ac/babraham/FastQC/Modules/KmerContent.class  \n",
            "  inflating: FastQC/uk/ac/babraham/FastQC/Modules/ModuleConfig.class  \n",
            "  inflating: FastQC/uk/ac/babraham/FastQC/Modules/ModuleFactory.class  \n",
            "  inflating: FastQC/uk/ac/babraham/FastQC/Modules/NContent.class  \n",
            "  inflating: FastQC/uk/ac/babraham/FastQC/Modules/OverRepresentedSeqs$OverrepresentedSeq.class  \n",
            "  inflating: FastQC/uk/ac/babraham/FastQC/Modules/OverRepresentedSeqs$ResultsTable.class  \n",
            "  inflating: FastQC/uk/ac/babraham/FastQC/Modules/OverRepresentedSeqs.class  \n",
            "  inflating: FastQC/uk/ac/babraham/FastQC/Modules/PerBaseQualityScores.class  \n",
            "  inflating: FastQC/uk/ac/babraham/FastQC/Modules/PerBaseSequenceContent.class  \n",
            "  inflating: FastQC/uk/ac/babraham/FastQC/Modules/PerSequenceGCContent.class  \n",
            "  inflating: FastQC/uk/ac/babraham/FastQC/Modules/PerSequenceQualityScores.class  \n",
            "  inflating: FastQC/uk/ac/babraham/FastQC/Modules/PerTileQualityScores.class  \n",
            "  inflating: FastQC/uk/ac/babraham/FastQC/Modules/QCModule.class  \n",
            "  inflating: FastQC/uk/ac/babraham/FastQC/Modules/SequenceLengthDistribution.class  \n",
            "   creating: FastQC/uk/ac/babraham/FastQC/Report/\n",
            "  inflating: FastQC/uk/ac/babraham/FastQC/Report/HTMLReportArchive.class  \n",
            "  inflating: FastQC/uk/ac/babraham/FastQC/Report/stylesheet.txt  \n",
            "   creating: FastQC/uk/ac/babraham/FastQC/Resources/\n",
            " extracting: FastQC/uk/ac/babraham/FastQC/Resources/error.png  \n",
            " extracting: FastQC/uk/ac/babraham/FastQC/Resources/fastqc_icon.png  \n",
            "  inflating: FastQC/uk/ac/babraham/FastQC/Resources/fastqc_icon.svg  \n",
            " extracting: FastQC/uk/ac/babraham/FastQC/Resources/fastqc_icon_100.png  \n",
            " extracting: FastQC/uk/ac/babraham/FastQC/Resources/tick.png  \n",
            " extracting: FastQC/uk/ac/babraham/FastQC/Resources/warning.png  \n",
            "   creating: FastQC/uk/ac/babraham/FastQC/Results/\n",
            "  inflating: FastQC/uk/ac/babraham/FastQC/Results/ResultsPanel$ModuleRenderer.class  \n",
            "  inflating: FastQC/uk/ac/babraham/FastQC/Results/ResultsPanel.class  \n",
            "   creating: FastQC/uk/ac/babraham/FastQC/Sequence/\n",
            "  inflating: FastQC/uk/ac/babraham/FastQC/Sequence/BAMFile.class  \n",
            "   creating: FastQC/uk/ac/babraham/FastQC/Sequence/Contaminant/\n",
            "  inflating: FastQC/uk/ac/babraham/FastQC/Sequence/Contaminant/Contaminant.class  \n",
            "  inflating: FastQC/uk/ac/babraham/FastQC/Sequence/Contaminant/ContaminantHit.class  \n",
            "  inflating: FastQC/uk/ac/babraham/FastQC/Sequence/Contaminant/ContaminentFinder.class  \n",
            "  inflating: FastQC/uk/ac/babraham/FastQC/Sequence/Fast5File.class  \n",
            "  inflating: FastQC/uk/ac/babraham/FastQC/Sequence/FastQFile.class  \n",
            "   creating: FastQC/uk/ac/babraham/FastQC/Sequence/QualityEncoding/\n",
            "  inflating: FastQC/uk/ac/babraham/FastQC/Sequence/QualityEncoding/PhredEncoding.class  \n",
            "  inflating: FastQC/uk/ac/babraham/FastQC/Sequence/Sequence.class  \n",
            "  inflating: FastQC/uk/ac/babraham/FastQC/Sequence/SequenceFactory.class  \n",
            "  inflating: FastQC/uk/ac/babraham/FastQC/Sequence/SequenceFile.class  \n",
            "  inflating: FastQC/uk/ac/babraham/FastQC/Sequence/SequenceFileGroup.class  \n",
            "  inflating: FastQC/uk/ac/babraham/FastQC/Sequence/SequenceFormatException.class  \n",
            "   creating: FastQC/uk/ac/babraham/FastQC/Statistics/\n",
            "  inflating: FastQC/uk/ac/babraham/FastQC/Statistics/NormalDistribution.class  \n",
            "  inflating: FastQC/uk/ac/babraham/FastQC/Statistics/PearsonCorrelation.class  \n",
            "   creating: FastQC/uk/ac/babraham/FastQC/Utilities/\n",
            "  inflating: FastQC/uk/ac/babraham/FastQC/Utilities/CasavaBasename.class  \n",
            "  inflating: FastQC/uk/ac/babraham/FastQC/Utilities/HotColdColourGradient.class  \n",
            "  inflating: FastQC/uk/ac/babraham/FastQC/Utilities/ImageToBase64.class  \n",
            "  inflating: FastQC/uk/ac/babraham/FastQC/Utilities/MultiMemberGZIPInputStream.class  \n",
            "  inflating: FastQC/uk/ac/babraham/FastQC/Utilities/NameFormatException.class  \n",
            "  inflating: FastQC/uk/ac/babraham/FastQC/Utilities/NanoporeBasename.class  \n",
            "  inflating: FastQC/uk/ac/babraham/FastQC/Utilities/QualityCount.class  \n",
            "  inflating: FastQC/uk/ac/babraham/FastQC/Utilities/RGB.class  \n"
          ]
        }
      ],
      "source": [
        "!wget https://www.bioinformatics.babraham.ac.uk/projects/fastqc/fastqc_v0.11.9.zip\n",
        "!unzip fastqc_v0.11.9.zip\n",
        "!chmod a+x FastQC/fastqc"
      ]
    },
    {
      "cell_type": "markdown",
      "metadata": {
        "id": "_zEx3USYPKoR"
      },
      "source": [
        "Можно получать данные секвенировия с ENA. Например, https://www.ebi.ac.uk/ena/browser/view/SRR5836473"
      ]
    },
    {
      "cell_type": "code",
      "execution_count": null,
      "metadata": {
        "colab": {
          "base_uri": "https://localhost:8080/"
        },
        "id": "c5QMGKJYxrza",
        "outputId": "6c9d7d3f-8143-4f36-aa3f-20ba157c15a5"
      },
      "outputs": [
        {
          "name": "stdout",
          "output_type": "stream",
          "text": [
            "--2022-02-02 14:12:23--  ftp://ftp.sra.ebi.ac.uk/vol1/fastq/SRR583/003/SRR5836473/SRR5836473_1.fastq.gz\n",
            "           => ‘SRR5836473_1.fastq.gz’\n",
            "Resolving ftp.sra.ebi.ac.uk (ftp.sra.ebi.ac.uk)... 193.62.197.74\n",
            "Connecting to ftp.sra.ebi.ac.uk (ftp.sra.ebi.ac.uk)|193.62.197.74|:21... connected.\n",
            "Logging in as anonymous ... Logged in!\n",
            "==> SYST ... done.    ==> PWD ... done.\n",
            "==> TYPE I ... done.  ==> CWD (1) /vol1/fastq/SRR583/003/SRR5836473 ... done.\n",
            "==> SIZE SRR5836473_1.fastq.gz ... 6856386252\n",
            "==> PASV ... done.    ==> RETR SRR5836473_1.fastq.gz ... done.\n",
            "Length: 6856386252 (6.4G) (unauthoritative)\n",
            "\n",
            "SRR5836473_1.fastq.   5%[>                   ] 342.31M  36.4MB/s    eta 3m 28s ^C\n"
          ]
        }
      ],
      "source": [
        "! wget ftp://ftp.sra.ebi.ac.uk/vol1/fastq/SRR583/003/SRR5836473/SRR5836473_1.fastq.gz\n",
        "! wget ftp://ftp.sra.ebi.ac.uk/vol1/fastq/SRR583/003/SRR5836473/SRR5836473_2.fastq.gz"
      ]
    },
    {
      "cell_type": "markdown",
      "metadata": {
        "id": "Ugk3bV0LI5El"
      },
      "source": [
        "# Установка Bismark с зависимостями (+bowtie2, samtools)"
      ]
    },
    {
      "cell_type": "code",
      "execution_count": null,
      "metadata": {
        "colab": {
          "base_uri": "https://localhost:8080/"
        },
        "id": "uSOZLyn5n5Nl",
        "outputId": "3455fd90-679c-4599-cb44-76039cbb960d"
      },
      "outputs": [
        {
          "output_type": "stream",
          "name": "stdout",
          "text": [
            "✨🍰✨ Everything looks OK!\n"
          ]
        }
      ],
      "source": [
        "! pip install -q condacolab\n",
        "import condacolab\n",
        "condacolab.install()"
      ]
    },
    {
      "cell_type": "code",
      "execution_count": null,
      "metadata": {
        "colab": {
          "base_uri": "https://localhost:8080/"
        },
        "id": "npb--DNtn52o",
        "outputId": "73d19a94-0f3c-449e-bb7b-a9af2524ad11"
      },
      "outputs": [
        {
          "output_type": "stream",
          "name": "stdout",
          "text": [
            "✨🍰✨ Everything looks OK!\n"
          ]
        }
      ],
      "source": [
        "import condacolab\n",
        "condacolab.check()"
      ]
    },
    {
      "cell_type": "code",
      "execution_count": null,
      "metadata": {
        "colab": {
          "base_uri": "https://localhost:8080/"
        },
        "id": "MfBSN4YuoCL6",
        "outputId": "41d09b4d-d40c-45f6-d6ee-a2475f3c7a37"
      },
      "outputs": [
        {
          "output_type": "stream",
          "name": "stdout",
          "text": [
            "Collecting package metadata (current_repodata.json): - \b\b\\ \b\b| \b\b/ \b\b- \b\b\\ \b\b| \b\b/ \b\b- \b\b\\ \b\b| \b\b/ \b\b- \b\b\\ \b\b| \b\b/ \b\b- \b\b\\ \b\b| \b\b/ \b\b- \b\b\\ \b\b| \b\b/ \b\b- \b\b\\ \b\b| \b\b/ \b\b- \b\b\\ \b\b| \b\b/ \b\b- \b\b\\ \b\b| \b\b/ \b\b- \b\b\\ \b\b| \b\b/ \b\b- \b\b\\ \b\b| \b\b/ \b\b- \b\b\\ \b\b| \b\b/ \b\b- \b\b\\ \b\b| \b\b/ \b\b- \b\b\\ \b\b| \b\b/ \b\b- \b\b\\ \b\b| \b\b/ \b\b- \b\b\\ \b\b| \b\b/ \b\b- \b\b\\ \b\b| \b\b/ \b\b- \b\b\\ \b\b| \b\b/ \b\b- \b\b\\ \b\b| \b\b/ \b\b- \b\b\\ \b\b| \b\b/ \b\b- \b\b\\ \b\b| \b\b/ \b\b- \b\b\\ \b\b| \b\b/ \b\b- \b\b\\ \b\b| \b\b/ \b\b- \b\b\\ \b\b| \b\b/ \b\b- \b\bdone\n",
            "Solving environment: | \b\b/ \b\b- \b\b\\ \b\b| \b\b/ \b\b- \b\b\\ \b\b| \b\bdone\n",
            "\n",
            "## Package Plan ##\n",
            "\n",
            "  environment location: /usr/local\n",
            "\n",
            "  added / updated specs:\n",
            "    - bismark\n",
            "\n",
            "\n",
            "The following packages will be downloaded:\n",
            "\n",
            "    package                    |            build\n",
            "    ---------------------------|-----------------\n",
            "    bismark-0.23.1             |       hdfd78af_0         6.6 MB  bioconda\n",
            "    bowtie2-2.2.5              |   py37h22450f8_8        14.9 MB  bioconda\n",
            "    ca-certificates-2021.10.8  |       ha878542_0         139 KB  conda-forge\n",
            "    certifi-2021.10.8          |   py37h89c1867_1         145 KB  conda-forge\n",
            "    conda-4.11.0               |   py37h89c1867_0        16.9 MB  conda-forge\n",
            "    hisat2-2.2.1               |       h1b792b2_3        16.5 MB  bioconda\n",
            "    perl-5.32.1                | 0_h7f98852_perl5        14.5 MB  conda-forge\n",
            "    python_abi-3.7             |          2_cp37m           4 KB  conda-forge\n",
            "    samtools-1.3.1             |                0         1.5 MB  bioconda\n",
            "    ------------------------------------------------------------\n",
            "                                           Total:        71.1 MB\n",
            "\n",
            "The following NEW packages will be INSTALLED:\n",
            "\n",
            "  bismark            bioconda/noarch::bismark-0.23.1-hdfd78af_0\n",
            "  bowtie2            bioconda/linux-64::bowtie2-2.2.5-py37h22450f8_8\n",
            "  hisat2             bioconda/linux-64::hisat2-2.2.1-h1b792b2_3\n",
            "  perl               conda-forge/linux-64::perl-5.32.1-0_h7f98852_perl5\n",
            "  samtools           bioconda/linux-64::samtools-1.3.1-0\n",
            "\n",
            "The following packages will be UPDATED:\n",
            "\n",
            "  ca-certificates                      2020.12.5-ha878542_0 --> 2021.10.8-ha878542_0\n",
            "  certifi                          2020.12.5-py37h89c1867_1 --> 2021.10.8-py37h89c1867_1\n",
            "  conda                                4.9.2-py37h89c1867_0 --> 4.11.0-py37h89c1867_0\n",
            "  python_abi                                    3.7-1_cp37m --> 3.7-2_cp37m\n",
            "\n",
            "\n",
            "\n",
            "Downloading and Extracting Packages\n",
            "conda-4.11.0         | 16.9 MB   | : 100% 1.0/1 [00:04<00:00,  4.21s/it]\n",
            "bismark-0.23.1       | 6.6 MB    | : 100% 1.0/1 [00:01<00:00,  1.27s/it]\n",
            "ca-certificates-2021 | 139 KB    | : 100% 1.0/1 [00:00<00:00, 12.89it/s]\n",
            "perl-5.32.1          | 14.5 MB   | : 100% 1.0/1 [00:03<00:00,  3.73s/it]               \n",
            "python_abi-3.7       | 4 KB      | : 100% 1.0/1 [00:00<00:00, 23.07it/s]\n",
            "samtools-1.3.1       | 1.5 MB    | : 100% 1.0/1 [00:00<00:00,  3.51it/s]\n",
            "bowtie2-2.2.5        | 14.9 MB   | : 100% 1.0/1 [00:02<00:00,  2.74s/it]\n",
            "hisat2-2.2.1         | 16.5 MB   | : 100% 1.0/1 [00:02<00:00,  2.91s/it]\n",
            "certifi-2021.10.8    | 145 KB    | : 100% 1.0/1 [00:00<00:00, 18.65it/s]\n",
            "Preparing transaction: - \b\b\\ \b\bdone\n",
            "Verifying transaction: / \b\b- \b\b\\ \b\b| \b\b/ \b\b- \b\b\\ \b\bdone\n",
            "Executing transaction: / \b\b- \b\b\\ \b\bdone\n"
          ]
        }
      ],
      "source": [
        "! conda install -c bioconda bismark"
      ]
    },
    {
      "cell_type": "code",
      "execution_count": null,
      "metadata": {
        "colab": {
          "base_uri": "https://localhost:8080/"
        },
        "id": "13VM_exnoHEl",
        "outputId": "983fe052-ee83-451c-81ca-e58104093f40"
      },
      "outputs": [
        {
          "output_type": "stream",
          "name": "stdout",
          "text": [
            "\n",
            "Usage: samtools view [options] <in.bam>|<in.sam>|<in.cram> [region ...]\n",
            "\n",
            "Options:\n",
            "  -b       output BAM\n",
            "  -C       output CRAM (requires -T)\n",
            "  -1       use fast BAM compression (implies -b)\n",
            "  -u       uncompressed BAM output (implies -b)\n",
            "  -h       include header in SAM output\n",
            "  -H       print SAM header only (no alignments)\n",
            "  -c       print only the count of matching records\n",
            "  -o FILE  output file name [stdout]\n",
            "  -U FILE  output reads not selected by filters to FILE [null]\n",
            "  -t FILE  FILE listing reference names and lengths (see long help) [null]\n",
            "  -L FILE  only include reads overlapping this BED FILE [null]\n",
            "  -r STR   only include reads in read group STR [null]\n",
            "  -R FILE  only include reads with read group listed in FILE [null]\n",
            "  -q INT   only include reads with mapping quality >= INT [0]\n",
            "  -l STR   only include reads in library STR [null]\n",
            "  -m INT   only include reads with number of CIGAR operations consuming\n",
            "           query sequence >= INT [0]\n",
            "  -f INT   only include reads with all bits set in INT set in FLAG [0]\n",
            "  -F INT   only include reads with none of the bits set in INT set in FLAG [0]\n",
            "  -x STR   read tag to strip (repeatable) [null]\n",
            "  -B       collapse the backward CIGAR operation\n",
            "  -s FLOAT integer part sets seed of random number generator [0];\n",
            "           rest sets fraction of templates to subsample [no subsampling]\n",
            "  -@, --threads INT\n",
            "           number of BAM/CRAM compression threads [0]\n",
            "  -?       print long help, including note about region specification\n",
            "  -S       ignored (input format is auto-detected)\n",
            "      --input-fmt-option OPT[=VAL]\n",
            "               Specify a single input file format option in the form\n",
            "               of OPTION or OPTION=VALUE\n",
            "  -O, --output-fmt FORMAT[,OPT[=VAL]]...\n",
            "               Specify output format (SAM, BAM, CRAM)\n",
            "      --output-fmt-option OPT[=VAL]\n",
            "               Specify a single output file format option in the form\n",
            "               of OPTION or OPTION=VALUE\n",
            "  -T, --reference FILE\n",
            "               Reference sequence FASTA FILE [null]\n",
            "\n"
          ]
        }
      ],
      "source": [
        "! samtools view"
      ]
    },
    {
      "cell_type": "markdown",
      "metadata": {
        "id": "lBUia_8DP-gu"
      },
      "source": [
        "Можно загрузить файл с google drive напрямую:"
      ]
    },
    {
      "cell_type": "code",
      "execution_count": null,
      "metadata": {
        "colab": {
          "base_uri": "https://localhost:8080/"
        },
        "id": "cuOUtgXNwoQh",
        "outputId": "5e318e80-a876-4223-e98f-03ce6b371d70"
      },
      "outputs": [
        {
          "output_type": "stream",
          "name": "stdout",
          "text": [
            "Downloading...\n",
            "From: https://drive.google.com/uc?id=1A0yrDgfIyBir3fPgT9_mclEZNOUkhCfP\n",
            "To: /content/SRR5836473_1_bismark_bt2_pe.bam\n",
            "100% 667M/667M [00:05<00:00, 120MB/s]\n"
          ]
        }
      ],
      "source": [
        "# bam файл\n",
        "!gdown --id 1A0yrDgfIyBir3fPgT9_mclEZNOUkhCfP"
      ]
    },
    {
      "cell_type": "code",
      "source": [
        "# отчет о выравнивании тоже нужен\n",
        "! gdown --id 1tnhtwKBO2Fszj-Im30XuuADtO7oIN5-B"
      ],
      "metadata": {
        "id": "pkUcKexXjHzK",
        "colab": {
          "base_uri": "https://localhost:8080/"
        },
        "outputId": "2076adcc-c5b6-4bcc-f99a-9b47e15f5bf7"
      },
      "execution_count": null,
      "outputs": [
        {
          "output_type": "stream",
          "name": "stdout",
          "text": [
            "Downloading...\n",
            "From: https://drive.google.com/uc?id=1tnhtwKBO2Fszj-Im30XuuADtO7oIN5-B\n",
            "To: /content/SRR5836473_1_bismark_bt2_PE_report.txt\n",
            "\r  0% 0.00/1.90k [00:00<?, ?B/s]\r100% 1.90k/1.90k [00:00<00:00, 2.05MB/s]\n"
          ]
        }
      ]
    },
    {
      "cell_type": "code",
      "execution_count": null,
      "metadata": {
        "colab": {
          "base_uri": "https://localhost:8080/"
        },
        "id": "AxMpAQFVQFR8",
        "outputId": "9b9b6c90-d01e-4b16-ef6e-4816ec893615"
      },
      "outputs": [
        {
          "output_type": "stream",
          "name": "stdout",
          "text": [
            "total 636M\n",
            "-rw-r--r-- 1 root root  13K Feb 14 08:55 condacolab_install.log\n",
            "drwxr-xr-x 1 root root 4.0K Feb  1 14:32 sample_data\n",
            "-rw------- 1 root root 636M Feb 14 08:57 SRR5836473_1_bismark_bt2_pe.bam\n",
            "-rw------- 1 root root 1.9K Feb 14 08:58 SRR5836473_1_bismark_bt2_PE_report.txt\n"
          ]
        }
      ],
      "source": [
        "! ls -lh"
      ]
    },
    {
      "cell_type": "code",
      "execution_count": null,
      "metadata": {
        "colab": {
          "base_uri": "https://localhost:8080/"
        },
        "id": "yMQy_LQ8xSOP",
        "outputId": "3333c4d9-9158-405a-ab52-67c82dac9e67"
      },
      "outputs": [
        {
          "output_type": "stream",
          "name": "stdout",
          "text": [
            "SRR5836473.18_18/1\t99\tchr11\t116830009\t0\t139M\t=\t116830059\t190\tTTTATTTTGTTATTGGATTTAGAGATTATTTGGCGGGAATCGGGTTTTTTTTTTTTTTTTTTATAATAGAGTGTCGTAATAGTAAAATTGAGTTTTGATTAGAGTGATTTTGATTTGGTTTCGTTTTTTTTTTCGTTCG\tFKKKKKKKKKKKKKKKK<FKKKKFKKKKKKKKKKKKKFKKKKKKFAFKKKKKKKKKKKKKKKAKFFFFKFF7FFFKFKK7AKKKKKKKKAFKKKKAFKKAFKFK,F<FAKKKAFAFFF,FKKKKKKKKKKKKFF<A77F\tNM:i:37\tMD:Z:0C1C2C0C2C2C6C0C23C0C0C0C0C1C0C0C0C0C2C0C2C4C0T8G2C12C4T1C7C0C4C4C1C4C3C2C3C2\tXM:Z:h.h..hx..h..x......x.............Z......Z...hhhhh.hhhhh..hh..h....x.......Z....x............h......x.......hh....h....h.xZ...h...h..xZ..xZ.\tXR:Z:CT\tXG:Z:CT\n",
            "SRR5836473.18_18/1\t147\tchr11\t116830059\t0\t140M\t=\t116830009\t-190\tTTTTTTTTTTTTATAATAGAGTGTCGTAATAGTAAAATTGAGTTTTGATTAGAGTGATTTTGATTTGGTTTCGTTTTTTTTTTCGTTCGTTTAGTTTTTTTTTTGTAGTTCGAGTTGTTATTTTAGTTGAATTGTTTATT\tKKF<A,KAFA7A7,K77KF<F<A<F<7,,7,7A7,,7AFFFA<,KKKAA<<,7KAF7KKFAA<AKFKKF7<KKKKFKKKKKFFKKFFFKKKKKKKKKFKKKKKKKKFKKFKKKKKKKKKKKKKKKKKKKKKKKKKKKKKF\tNM:i:39\tMD:Z:0C0C0C0C0C2C0C2C4C0T8G2C12C4T1C7C0C4C4C1C4C3C2C3C3C5C0C1C1C2T0C2C0C7C0C2C9C0C3C3\tXM:Z:hhhhh..hh..h....x.......Z....x............h......x.......hh....h....h.xZ...h...h..xZ..xZ..h.....hh.h.h...x..hxZ......hh..h.........xz...h...\tXR:Z:GA\tXG:Z:CT\n",
            "SRR5836473.30_30/1\t99\tchr11\t24232407\t0\t140M\t=\t24232506\t239\tGGTAAGAAGGATATATGTTTAATTATGTTTATAGTAGTTTTATTTATAATAGTTAGAAGTTGGAAAGAATTTAGATGTTTTTCAATAGAGGAATGGATATTAAAAAATGTGGTATATTTATATAATGGAGTATTATTTAG\tKKKKKKKKKKKKKKKKKKKKKKKKKKKKKKKKKKKKKKKKKKKKKKKKKKKKKKKKKKKKKKKKKKKKKKKKKKKKKKKKKKKKKKKKKKKKKKKKKKKKKKKKKKKKKFFKKKKKKKKKKKKKKKKKKKFKKKKKAFKK\tNM:i:29\tMD:Z:0T10C1C3C1C0C1C6C4C2C0C13C0C5C9C0C0C5C0C0C0C4C13C0C13C5C1C12C1C2\tXM:Z:...........h.h...h.h..h......h....x..hh.............hx.....x.........hhx.....hhhh.H..x.............hh.............h.....h.h............h.x..\tXR:Z:CT\tXG:Z:CT\n",
            "SRR5836473.30_30/1\t147\tchr11\t24232506\t0\t140M\t=\t24232407\t-239\tTTAAAAAATGTGGTATATTTATATAATGGAGTATTATTTAGTTATTAAAAAGAATGAATTTATGAAATTTTTAGGTAAATGGATGGATTTGGAGGGTATTATTTTGAGTGAGGTAATTTAATTATAAAAGAATTTATATG\t7AKKKKFFFAA7AKFAKKFKFAKKKKKFA7KKKFAFFAKKKKKKFFKFKKKKKKKKKAKKKKKFKKKKKKKKKKKKKFKKKKKKKKKFKKKKKKKKKKKKKKA<AKFKF<AKKKKKKFKFKKKKKKKKKKKKKKKKKKFF\tNM:i:28\tMD:Z:0C0C13C5C1C12C1C2C27C0C4C0C10C0C7C2C2C0C12C0C0C3C1C7C1C1C1C0A0\tXM:Z:hh.............h.....h.h............h.x..h...........................hh....h...........hx.......h..h..hx............hhh...h.h.......h.h.h.h.\tXR:Z:GA\tXG:Z:CT\n",
            "SRR5836473.39_39/1\t83\tchr11\t105051790\t0\t13M1D127M\t=\t105051789\t-142\tTTAAAAACTACATATACTAATATACTAACAAACAAATAAACCAATAAAATAAAATTAAAAACCCAAAAATAAACCCACACACCTATAATCACTTAATCTTTATCAAAAAAACTAAAACCATCCAATAAAAAAAAAACACC\tKFKKKKKKKKKKKKKKKKKKKKKKKKKKKKKKKKKKKKKKKKKKKKKKKKKKKKKKKKKFKKKKKKKKKKKKFKKKKKFKKKKKKKKKKKKKKKKKKKKKKKKKKKKKKKKKKKKKFKKKKKKKKKKKKKKKKKKKKKKK\tNM:i:31\tMD:Z:0A8G3^G0G4G0G6G3G4G2G6G0G4G4G2G5G4G15G0G6G6G0A3G0G0G1G13G1G0G6G3G1\tXM:Z:.........x...h....xh......x...x....h..h......hh....h....h..h.....x....h...............hh......h......h....hhh.h.............x.hh......h.....\tXR:Z:CT\tXG:Z:GA\n",
            "SRR5836473.39_39/1\t163\tchr11\t105051789\t0\t14M1D126M\t=\t105051790\t142\tATTAAAAACTACATATACTAATATACTAACAAACAAATAAACCAATAAAATAAAATTAAAAACCCAAAAATAAACCCACACACCTATAATCACTTAATCTTTATCAAAAAAACTAAAACCATCCAATAAAAAAAAAACAC\tKKKKKKKKKKKKKKKKKKKKKKKKKKKKKKKKKKKKKKKKKKKKKKKKKKKKKKKKKKKKKKKKKKKKKKKKKKKKKKKKKKKKKKKKKKKKKKKKKKKKFKKKKK<FKA<FKFFKKKKKKKKKFKFKKFK,,<FA,,7<\tNM:i:32\tMD:Z:0G0A8G3^G0G4G0G6G3G4G2G6G0G4G4G2G5G4G15G0G6G6G0A3G0G0G1G13G1G0G6G3G0\tXM:Z:h.........x...h....xh......x...x....h..h......hh....h....h..h.....x....h...............hh......h......h....hhh.h.............x.hh......h....\tXR:Z:GA\tXG:Z:GA\n",
            "SRR5836473.41_41/1\t99\tchr11\t40185837\t0\t140M\t=\t40185875\t178\tAATTTTTTTGGGGATTGTATTGAATTTGTAGATTGTTTTTGGTAAGAGAGTTATTTTTATTATATTGATTTTGTTAATTTATGAATATGGGAGATTTTTTTATTTTTTGAGATTTTTTTTAATTTTTTTTTTTAGAGATT\tKKKKKKKKKKKKKKKFKKKKKKKKKKKKKKFKKKKKKKKKFKKKKKKKKKFKKKKKKKKKKKKKKKKKKKKKKKKKKKKKKKKKKKKKKKKKKKKKKKKKKKKKKKKKKKKKKKKKKKKKKKKKKKKKKKKKKF7<77FF\tNM:i:28\tMD:Z:6G0A9C7C9C6C4T2C0C7C9C0C2C0C3C0C5C9C3C0C2C2C6C2C8C3C2C5C1\tXM:Z:.................h.......x.........h......h.......hh.......h.........hx..hh...hh.....h.........h...hh..h..x......h..h........h...h..x.....h.\tXR:Z:CT\tXG:Z:CT\n",
            "SRR5836473.41_41/1\t147\tchr11\t40185875\t0\t140M\t=\t40185837\t-178\tTTGGTAAGAGAGTTATTTTTATTATATTGATTTTGTTAATTTATGAATATGGGAGATTTTTTTATTTTTTGAGATTTTTTTTAATTTTTTTTTTTAGAGATTTGAAGTTTTTATTATATAGATTTTTTATTTTTTTAGTG\tAKKKKKAAFFFKKKKKKKKKKKKKFFKKKKKKKKKKFAFKKKKKKKKKKKKKKKKKKKKKKKKKKKKKKFKKKKKKKKKKKKFKKKKKKKKKKKKKKKKKKKKKKKKKKKKKKKKKKKKKKKKKKKKKKKKKKKKKKKKK\tNM:i:31\tMD:Z:4C4T2C0C7C9C0C2C0C3C0C5C9C3C0C2C2C6C2C8C3C2C5C8C4C3A4C3C1C2C6T0\tXM:Z:....h.......hh.......h.........hx..hh...hh.....h.........h...hh..h..x......h..h........h...h..x.....h........h....h........h...h.h..h.......\tXR:Z:GA\tXG:Z:CT\n",
            "SRR5836473.46_46/1\t83\tchr11\t22771774\t8\t140M\t=\t22771594\t-320\tCAAATTAAAAAAAAAAAAATAAAAATATCACTTTTTACAAATAATATAATAATATATATAAATAACCCTAAAAATTCTATCACAAAACTCCTAAACCTAATAAACAACTTCAATAAAATAACTAAATATAAAATTAACTC\tKKKKAAKKKKKKKKKKKKKKKKKKKKKKKKKKKKKKKKKKKKKKKKKKKKKKKKKKKKKKKKKKKKKKKKKKKKKKKKKKKKKKKKKKKKKKKKKKKKKKKKKKKKKKKKKKKKKKKKKKKKKKKKKKKKKKKKKKKKKK\tNM:i:26\tMD:Z:6G0G4G2G2G1C15G2G2G4G3G9G1G13C1C2G1G9G3G7G5G1G2G2G2G0G15\tXM:Z:......hh....h..h..h.................h..x..h....h...h.........h.h....................h.........h...x.......x.....x.h..h..h..xh...............\tXR:Z:CT\tXG:Z:GA\n",
            "SRR5836473.46_46/1\t163\tchr11\t22771594\t8\t140M\t=\t22771774\t320\tAGAATAAAAACAATCTACAACAAACCAATAACCAACATCAAAATAAATAATAAAAAACTAAAAACAATCCCACTAAAATCAAAAACTAAACAAAACTACCCACTTTCTCCCTACCTATTCAACATTATACTTAAAATCCT\tFKKKKKKKKKKKKKKKKKKKKKKKKKKKKKKKKKKKKKKKKKKKKKKKKKKKKKKKKKKKKKKKKKKKKKKKKKKKKKKKKAKKKKKKKKKKKKKKKKKKKKKKKKFFKFKKKKKKFKKKKKKK<AKKKKKKFFF7<A<K\tNM:i:25\tMD:Z:1T0G6G9G7G2G11G5G0G1G1G2G2G0G2G17G0G0G4G4G0G2G28G5G2G4\tXM:Z:..h......h.........x.......x..h...........h.....hh.h.h..h..xh..h.................xhh....h....hh..x............................h.....h..h....\tXR:Z:GA\tXG:Z:GA\n"
          ]
        }
      ],
      "source": [
        "! samtools view SRR5836473_1_bismark_bt2_pe.bam | head"
      ]
    },
    {
      "cell_type": "code",
      "execution_count": null,
      "metadata": {
        "colab": {
          "base_uri": "https://localhost:8080/"
        },
        "id": "SrGGCxZQ2Ao3",
        "outputId": "f37dd37a-0acd-4151-8dc3-73f2fb717250"
      },
      "outputs": [
        {
          "output_type": "stream",
          "name": "stdout",
          "text": [
            "[bam_sort_core] merging from 5 files...\n"
          ]
        }
      ],
      "source": [
        "! samtools sort SRR5836473_1_bismark_bt2_pe.bam -o sorted_8cell.bam"
      ]
    },
    {
      "cell_type": "code",
      "execution_count": null,
      "metadata": {
        "id": "GErvoOM-3Axj"
      },
      "outputs": [],
      "source": [
        "! samtools index  sorted_8cell.bam"
      ]
    },
    {
      "cell_type": "markdown",
      "metadata": {
        "id": "Lw--6KavBoXp"
      },
      "source": [
        "Сколько ридов закартировалось на регион 58717111-58917111 в образце 8-cell?"
      ]
    },
    {
      "cell_type": "code",
      "execution_count": null,
      "metadata": {
        "colab": {
          "base_uri": "https://localhost:8080/"
        },
        "id": "b-ZhJMlax75S",
        "outputId": "6e96a08c-d783-4d3d-bff4-54b76a3d7a9b"
      },
      "outputs": [
        {
          "output_type": "stream",
          "name": "stdout",
          "text": [
            "2744\n"
          ]
        }
      ],
      "source": [
        "! samtools view sorted_8cell.bam chr11:58717111-58917111 | cut -f1 | sort -u | wc -l"
      ]
    },
    {
      "cell_type": "markdown",
      "metadata": {
        "id": "CliRCSUQTmV-"
      },
      "source": [
        "Дедупликация"
      ]
    },
    {
      "cell_type": "code",
      "execution_count": null,
      "metadata": {
        "colab": {
          "base_uri": "https://localhost:8080/"
        },
        "id": "ShW-Fhzq19kE",
        "outputId": "6b1126c5-240d-4548-a865-cc62e1971645"
      },
      "outputs": [
        {
          "output_type": "stream",
          "name": "stdout",
          "text": [
            "Output filename was given as: s_8_cell\n",
            "Processing paired-end Bismark output file(s) (SAM format):\n",
            "SRR5836473_1_bismark_bt2_pe.bam\n",
            "\n",
            "\n",
            "If there are several alignments to a single position in the genome the first alignment will be chosen. Since the input files are not in any way sorted this is a near-enough random selection of reads.\n",
            "\n",
            "Checking file >>SRR5836473_1_bismark_bt2_pe.bam<< for signs of file truncation...\n",
            "\n",
            "\n",
            "\n",
            "Now testing Bismark result file SRR5836473_1_bismark_bt2_pe.bam for positional sorting (which would be bad...)\t...passed!\n",
            "Output file is: s_8_cell.deduplicated.bam\n",
            "\n",
            "skipping header line:\t@HD\tVN:1.0\tSO:unsorted\n",
            "skipping header line:\t@SQ\tSN:chr11\tLN:122082543\n",
            "skipping header line:\t@PG\tID:Bismark\tVN:v0.23.1dev\tCL:\"bismark -p 2 --gzip mouse_chr -1 data/SRR5836473_1.fastq.gz -2 data/SRR5836473_2.fastq.gz -o cell8/\"\n",
            "\n",
            "Total number of alignments analysed in SRR5836473_1_bismark_bt2_pe.bam:\t2850231\n",
            "Total number duplicated alignments removed:\t521904 (18.31%)\n",
            "Duplicated alignments were found at:\t230432 different position(s)\n",
            "\n",
            "Total count of deduplicated leftover sequences: 2328327 (81.69% of total)\n",
            "\n"
          ]
        }
      ],
      "source": [
        "! deduplicate_bismark  --bam  --paired  -o s_8_cell  SRR5836473_1_bismark_bt2_pe.bam"
      ]
    },
    {
      "cell_type": "code",
      "execution_count": null,
      "metadata": {
        "colab": {
          "base_uri": "https://localhost:8080/"
        },
        "id": "OkrrqUQPXCCI",
        "outputId": "91b8c0f8-64cc-4901-8373-5f2d4cb12941"
      },
      "outputs": [
        {
          "output_type": "stream",
          "name": "stdout",
          "text": [
            "condacolab_install.log\t   sorted_8cell.bam.bai\n",
            "s_8_cell.deduplicated.bam  SRR5836473_1_bismark_bt2_pe.bam\n",
            "sample_data\t\t   SRR5836473_1_bismark_bt2_pe.deduplication_report.txt\n",
            "sorted_8cell.bam\t   SRR5836473_1_bismark_bt2_PE_report.txt\n"
          ]
        }
      ],
      "source": [
        "! ls"
      ]
    },
    {
      "cell_type": "code",
      "execution_count": null,
      "metadata": {
        "colab": {
          "base_uri": "https://localhost:8080/"
        },
        "id": "mUlhNr8EZAUZ",
        "outputId": "fa1d99be-e05d-4e3c-ea47-01f9342d72c3"
      },
      "outputs": [
        {
          "output_type": "stream",
          "name": "stdout",
          "text": [
            "Downloading...\n",
            "From: https://drive.google.com/uc?id=1Gh6YYO8zmCiUfZ4ShVcvFp3J_gXjnoOF\n",
            "To: /content/mouse_chr.zip\n",
            "100% 366M/366M [00:02<00:00, 159MB/s] \n"
          ]
        }
      ],
      "source": [
        "! gdown --id 1Gh6YYO8zmCiUfZ4ShVcvFp3J_gXjnoOF"
      ]
    },
    {
      "cell_type": "code",
      "execution_count": null,
      "metadata": {
        "colab": {
          "base_uri": "https://localhost:8080/"
        },
        "id": "4NZ1s3i5bUUq",
        "outputId": "817a42d5-fa08-4314-b683-d347bbebaaa4"
      },
      "outputs": [
        {
          "output_type": "stream",
          "name": "stdout",
          "text": [
            "Archive:  mouse_chr.zip\n",
            "   creating: mouse_chr/\n",
            "   creating: mouse_chr/Bisulfite_Genome/\n",
            "   creating: mouse_chr/Bisulfite_Genome/CT_conversion/\n",
            "  inflating: mouse_chr/Bisulfite_Genome/CT_conversion/genome_mfa.CT_conversion.fa  \n",
            "  inflating: mouse_chr/Bisulfite_Genome/CT_conversion/BS_CT.4.bt2  \n",
            "  inflating: mouse_chr/Bisulfite_Genome/CT_conversion/BS_CT.1.bt2  \n",
            "  inflating: mouse_chr/Bisulfite_Genome/CT_conversion/BS_CT.3.bt2  \n",
            "  inflating: mouse_chr/Bisulfite_Genome/CT_conversion/BS_CT.2.bt2  \n",
            "  inflating: mouse_chr/Bisulfite_Genome/CT_conversion/BS_CT.rev.2.bt2  \n",
            "  inflating: mouse_chr/Bisulfite_Genome/CT_conversion/BS_CT.rev.1.bt2  \n",
            "   creating: mouse_chr/Bisulfite_Genome/GA_conversion/\n",
            "  inflating: mouse_chr/Bisulfite_Genome/GA_conversion/BS_GA.rev.1.bt2  \n",
            "  inflating: mouse_chr/Bisulfite_Genome/GA_conversion/BS_GA.rev.2.bt2  \n",
            "  inflating: mouse_chr/Bisulfite_Genome/GA_conversion/genome_mfa.GA_conversion.fa  \n",
            "  inflating: mouse_chr/Bisulfite_Genome/GA_conversion/BS_GA.4.bt2  \n",
            "  inflating: mouse_chr/Bisulfite_Genome/GA_conversion/BS_GA.1.bt2  \n",
            "  inflating: mouse_chr/Bisulfite_Genome/GA_conversion/BS_GA.2.bt2  \n",
            "  inflating: mouse_chr/Bisulfite_Genome/GA_conversion/BS_GA.3.bt2  \n",
            "  inflating: mouse_chr/chr11.fa      \n"
          ]
        }
      ],
      "source": [
        "! unzip mouse_chr.zip"
      ]
    },
    {
      "cell_type": "markdown",
      "metadata": {
        "id": "sf_yqXE71QjG"
      },
      "source": [
        "Время работы: ±30 мин"
      ]
    },
    {
      "cell_type": "code",
      "source": [
        "! head s_8_cell.deduplicated.bedGraph"
      ],
      "metadata": {
        "colab": {
          "base_uri": "https://localhost:8080/"
        },
        "id": "buKTYu3PBuA3",
        "outputId": "d5942568-d17a-4744-dfff-8d904c931474"
      },
      "execution_count": null,
      "outputs": [
        {
          "output_type": "stream",
          "name": "stdout",
          "text": [
            "track type=bedGraph\n",
            "chr11\t3100030\t3100031\t50\n",
            "chr11\t3100047\t3100048\t66.6666666666667\n",
            "chr11\t3100048\t3100049\t50\n",
            "chr11\t3100223\t3100224\t87.5\n",
            "chr11\t3100224\t3100225\t53.3333333333333\n",
            "chr11\t3100285\t3100286\t66.6666666666667\n",
            "chr11\t3100286\t3100287\t33.3333333333333\n",
            "chr11\t3100309\t3100310\t62.5\n",
            "chr11\t3100310\t3100311\t50\n"
          ]
        }
      ]
    },
    {
      "cell_type": "markdown",
      "source": [
        "Коллинг метилирования"
      ],
      "metadata": {
        "id": "LKBD3cwo1wLx"
      }
    },
    {
      "cell_type": "code",
      "execution_count": null,
      "metadata": {
        "colab": {
          "base_uri": "https://localhost:8080/"
        },
        "id": "4c5BEvKpDw5K",
        "outputId": "466f8918-d79f-4add-b17b-6601c7630e5a"
      },
      "outputs": [
        {
          "output_type": "stream",
          "name": "stdout",
          "text": [
            "\n",
            " *** Bismark methylation extractor version v0.23.1 ***\n",
            "\n",
            "Trying to determine the type of mapping from the SAM header line of file s_8_cell.deduplicated.bam\n",
            "Treating file(s) as paired-end data (as extracted from @PG line)\n",
            "\n",
            "Setting option '--no_overlap' since this is (normally) the right thing to do for paired-end data\n",
            "\n",
            "\n",
            "Setting core usage to single-threaded (default). Consider using --multicore <int> to speed up the extraction process.\n",
            "\n",
            "Summarising Bismark methylation extractor parameters:\n",
            "===============================================================\n",
            "Bismark paired-end SAM format specified (default)\n",
            "Number of cores to be used: 1\n",
            "Output will be written to the current directory ('/content')\n",
            "\n",
            "\n",
            "Summarising bedGraph parameters:\n",
            "===============================================================\n",
            "Generating additional output in bedGraph and coverage format\n",
            "bedGraph format:\t<Chromosome> <Start Position> <End Position> <Methylation Percentage>\n",
            "coverage format:\t<Chromosome> <Start Position> <End Position> <Methylation Percentage> <count methylated> <count non-methylated>\n",
            "\n",
            "Using a cutoff of 1 read(s) to report cytosine positions\n",
            "Reporting and sorting cytosine methylation information in CpG context only (default)\n",
            "The bedGraph UNIX sort command will use the following memory setting:\t'2G'. Temporary directory used for sorting is the output directory\n",
            "\n",
            "\n",
            "Summarising genome-wide cytosine methylation report parameters:\n",
            "===============================================================\n",
            "Generating comprehensive genome-wide cytosine report\n",
            "(output format: <Chromosome> <Position> <Strand> <count methylated> <count non-methylated>  <C-context>  <trinucleotide context> )\n",
            "Reporting cytosine methylation in CpG context only (default)\n",
            "Using 1-based genomic coordinates (default)\n",
            "Genome folder was specified as ./mouse_chr/\n",
            "\n",
            "Checking file >>s_8_cell.deduplicated.bam<< for signs of file truncation...\n",
            "\n",
            "\n",
            "Now testing Bismark result file >s_8_cell.deduplicated.bam< for positional sorting (which would be bad...)\t...passed!\n",
            "Writing result file containing methylation information for C in CpG context from the original top strand to CpG_OT_s_8_cell.deduplicated.txt.gz\n",
            "Writing result file containing methylation information for C in CpG context from the complementary to original top strand to CpG_CTOT_s_8_cell.deduplicated.txt.gz\n",
            "Writing result file containing methylation information for C in CpG context from the complementary to original bottom strand to CpG_CTOB_s_8_cell.deduplicated.txt.gz\n",
            "Writing result file containing methylation information for C in CpG context from the original bottom strand to CpG_OB_s_8_cell.deduplicated.txt.gz\n",
            "\n",
            "Writing result file containing methylation information for C in CHG context from the original top strand to CHG_OT_s_8_cell.deduplicated.txt.gz\n",
            "Writing result file containing methylation information for C in CHG context from the complementary to original top strand to CHG_CTOT_s_8_cell.deduplicated.txt.gz\n",
            "Writing result file containing methylation information for C in CHG context from the complementary to original bottom strand to CHG_CTOB_s_8_cell.deduplicated.txt.gz\n",
            "Writing result file containing methylation information for C in CHG context from the original bottom strand to CHG_OB_s_8_cell.deduplicated.txt.gz\n",
            "\n",
            "Writing result file containing methylation information for C in CHH context from the original top strand to CHH_OT_s_8_cell.deduplicated.txt.gz\n",
            "Writing result file containing methylation information for C in CHH context from the complementary to original top strand to CHH_CTOT_s_8_cell.deduplicated.txt.gz\n",
            "Writing result file containing methylation information for C in CHH context from the complementary to original bottom strand to CHH_CTOB_s_8_cell.deduplicated.txt.gz\n",
            "Writing result file containing methylation information for C in CHH context from the original bottom strand to CHH_OB_s_8_cell.deduplicated.txt.gz\n",
            "\n",
            "Now reading in Bismark result file s_8_cell.deduplicated.bam\n",
            "skipping SAM header line:\t@HD\tVN:1.0\tSO:unsorted\n",
            "skipping SAM header line:\t@SQ\tSN:chr11\tLN:122082543\n",
            "skipping SAM header line:\t@PG\tID:Bismark\tVN:v0.23.1dev\tCL:\"bismark -p 2 --gzip mouse_chr -1 data/SRR5836473_1.fastq.gz -2 data/SRR5836473_2.fastq.gz -o cell8/\"\n",
            "Processed lines: 500000\n",
            "Processed lines: 1000000\n",
            "Processed lines: 1500000\n",
            "Processed lines: 2000000\n",
            "\n",
            "Processed 2328327 lines in total\n",
            "Total number of methylation call strings processed: 4656654\n",
            "\n",
            "Final Cytosine Methylation Report\n",
            "=================================\n",
            "Total number of C's analysed:\t104224209\n",
            "\n",
            "Total methylated C's in CpG context:\t2101489\n",
            "Total methylated C's in CHG context:\t269204\n",
            "Total methylated C's in CHH context:\t944695\n",
            "\n",
            "Total C to T conversions in CpG context:\t2731177\n",
            "Total C to T conversions in CHG context:\t22964928\n",
            "Total C to T conversions in CHH context:\t75212716\n",
            "\n",
            "C methylated in CpG context:\t43.5%\n",
            "C methylated in CHG context:\t1.2%\n",
            "C methylated in CHH context:\t1.2%\n",
            "\n",
            "\n",
            "Determining maximum read lengths for M-Bias plots\n",
            "Maximum read length of Read 1: 140\n",
            "Maximum read length of Read 2: 140\n",
            "\n",
            "Perl module GD::Graph::lines is not installed, skipping drawing M-bias plots (only writing out M-bias plot table)\n",
            "Determining maximum read lengths for M-Bias plots\n",
            "Maximum read length of Read 1: 140\n",
            "Maximum read length of Read 2: 140\n",
            "\n",
            "Perl module GD::Graph::lines is not installed, skipping drawing M-bias plots (only writing out M-bias plot table)\n",
            "Deleting unused files ...\n",
            "\n",
            "CpG_OT_s_8_cell.deduplicated.txt.gz contains data ->\tkept\n",
            "CpG_CTOT_s_8_cell.deduplicated.txt.gz was empty ->\tdeleted\n",
            "CpG_CTOB_s_8_cell.deduplicated.txt.gz was empty ->\tdeleted\n",
            "CpG_OB_s_8_cell.deduplicated.txt.gz contains data ->\tkept\n",
            "CHG_OT_s_8_cell.deduplicated.txt.gz contains data ->\tkept\n",
            "CHG_CTOT_s_8_cell.deduplicated.txt.gz was empty ->\tdeleted\n",
            "CHG_CTOB_s_8_cell.deduplicated.txt.gz was empty ->\tdeleted\n",
            "CHG_OB_s_8_cell.deduplicated.txt.gz contains data ->\tkept\n",
            "CHH_OT_s_8_cell.deduplicated.txt.gz contains data ->\tkept\n",
            "CHH_CTOT_s_8_cell.deduplicated.txt.gz was empty ->\tdeleted\n",
            "CHH_CTOB_s_8_cell.deduplicated.txt.gz was empty ->\tdeleted\n",
            "CHH_OB_s_8_cell.deduplicated.txt.gz contains data ->\tkept\n",
            "\n",
            "\n",
            "Using these input files: CpG_OT_s_8_cell.deduplicated.txt.gz CpG_OB_s_8_cell.deduplicated.txt.gz CHG_OT_s_8_cell.deduplicated.txt.gz CHG_OB_s_8_cell.deduplicated.txt.gz CHH_OT_s_8_cell.deduplicated.txt.gz CHH_OB_s_8_cell.deduplicated.txt.gz\n",
            "\n",
            "Summary of parameters for bismark2bedGraph conversion:\n",
            "======================================================\n",
            "bedGraph output:\t\ts_8_cell.deduplicated.bedGraph.gz\n",
            "output directory:\t\t><\n",
            "remove whitespaces:\t\tno\n",
            "CX context:\t\t\tno (CpG context only, default)\n",
            "No-header selected:\t\tno\n",
            "Sorting method:\t\t\tUnix sort-based (smaller memory footprint, but slower)\n",
            "Sort buffer size:\t\t2G\n",
            "Coverage threshold:\t\t1\n",
            "=============================================================================\n",
            "Methylation information will now be written into a bedGraph and coverage file\n",
            "=============================================================================\n",
            "\n",
            "Using the following files as Input:\n",
            "/content/CpG_OT_s_8_cell.deduplicated.txt.gz\t/content/CpG_OB_s_8_cell.deduplicated.txt.gz\n",
            "\n",
            "Writing bedGraph to file: s_8_cell.deduplicated.bedGraph.gz\n",
            "Also writing out a coverage file including counts methylated and unmethylated residues to file: s_8_cell.deduplicated.bismark.cov.gz\n",
            "\n",
            "Now writing methylation information for file >>CpG_OT_s_8_cell.deduplicated.txt.gz<< to individual files for each chromosome\n",
            "Finished writing out individual chromosome files for CpG_OT_s_8_cell.deduplicated.txt.gz\n",
            "Now writing methylation information for file >>CpG_OB_s_8_cell.deduplicated.txt.gz<< to individual files for each chromosome\n",
            "Finished writing out individual chromosome files for CpG_OB_s_8_cell.deduplicated.txt.gz\n",
            "\n",
            "Collecting temporary chromosome file information... Processing the following input file(s):\n",
            "CpG_OT_s_8_cell.deduplicated.txt.gz.chrchr11.methXtractor.temp\n",
            "\n",
            "Sorting input file CpG_OT_s_8_cell.deduplicated.txt.gz.chrchr11.methXtractor.temp by positions (using -S of 2G)\n",
            "tcmalloc: large alloc 2147491840 bytes == 0x5556297f0000 @  0x7fa0c12371e7 0x555627ccb718 0x555627cca5a1 0x7fa0c0c15bf7 0x555627ccb02a\n",
            "Successfully deleted the temporary input file CpG_OT_s_8_cell.deduplicated.txt.gz.chrchr11.methXtractor.temp\n",
            "\n",
            "Finished BedGraph conversion ...\n",
            "\n",
            "Summary of parameters for genome-wide cytosine report:\n",
            "==============================================================================\n",
            "Coverage infile:\t\t\t\ts_8_cell.deduplicated.bismark.cov.gz\n",
            "Output directory:\t\t\t\t><\n",
            "Parent directory:\t\t\t\t>/content/<\n",
            "Genome directory:\t\t\t\t>/content/mouse_chr/<\n",
            "Coverage threshold\t\t\t\t0 (all positions will be reported, default)\n",
            "CX context:\t\t\t\t\tno (CpG context only, default)\n",
            "Genome coordinates used:\t\t\t1-based (default)\n",
            "GZIP compression:\t\t\t\tyes\n",
            "Split by chromosome:\t\t\t\tno\n",
            "\n",
            "\n",
            "Now reading in and storing sequence information of the genome specified in: /content/mouse_chr/\n",
            "\n",
            "chr chr11 (122082543 bp)\n",
            "\n",
            "Stored sequence information of 1 chromosomes/scaffolds in total\n",
            "\n",
            "==============================================================================\n",
            "Methylation information will now be written into a genome-wide cytosine report\n",
            "==============================================================================\n",
            "\n",
            "Adding context-specific methylation summaries\n",
            "\n",
            ">>> Writing genome-wide cytosine report to: s_8_cell.deduplicated.CpG_report.txt.gz <<<\n",
            "\n",
            ">>> Writing all cytosine context summary file to: s_8_cell.deduplicated.cytosine_context_summary.txt <<<\n",
            "\n",
            "Storing all covered cytosine positions for chromosome: chr11\n",
            "Writing cytosine report for last chromosome chr11 (stored 1736778 different covered positions)\n",
            "Finished writing out cytosine report for covered chromosomes (processed 1 chromosomes/scaffolds in total)\n",
            "\n",
            "Now processing chromosomes that were not covered by any methylation calls in the coverage file...\n",
            "All chromosomes in the genome were covered by at least some reads. coverage2cytosine processing complete.\n",
            "\n",
            "\n",
            "\n",
            "Finished generating genome-wide cytosine report\n",
            "\n"
          ]
        }
      ],
      "source": [
        "! bismark_methylation_extractor --gzip --bedGraph --cytosine_report --genome_folder ./mouse_chr s_8_cell.deduplicated.bam"
      ]
    },
    {
      "cell_type": "code",
      "source": [
        "! ls -lh"
      ],
      "metadata": {
        "colab": {
          "base_uri": "https://localhost:8080/"
        },
        "id": "iNwzMUeAkQ4f",
        "outputId": "60db20c5-d3a0-4f8b-a7f9-54ddf0244fad"
      },
      "execution_count": null,
      "outputs": [
        {
          "output_type": "stream",
          "name": "stdout",
          "text": [
            "total 2.4G\n",
            "-rw-r--r-- 1 root root  47M Feb 14 09:31 CHG_OB_s_8_cell.deduplicated.txt.gz\n",
            "-rw-r--r-- 1 root root  47M Feb 14 09:31 CHG_OT_s_8_cell.deduplicated.txt.gz\n",
            "-rw-r--r-- 1 root root 127M Feb 14 09:31 CHH_OB_s_8_cell.deduplicated.txt.gz\n",
            "-rw-r--r-- 1 root root 126M Feb 14 09:31 CHH_OT_s_8_cell.deduplicated.txt.gz\n",
            "-rw-r--r-- 1 root root  13K Feb 14 08:55 condacolab_install.log\n",
            "-rw-r--r-- 1 root root  15M Feb 14 09:31 CpG_OB_s_8_cell.deduplicated.txt.gz\n",
            "-rw-r--r-- 1 root root  15M Feb 14 09:31 CpG_OT_s_8_cell.deduplicated.txt.gz\n",
            "drwxr-xr-x 3 root root 4.0K Feb  3 06:58 mouse_chr\n",
            "-rw------- 1 root root 349M Feb 14 09:12 mouse_chr.zip\n",
            "-rw-r--r-- 1 root root 528M Feb 14 09:07 s_8_cell.deduplicated.bam\n",
            "-rw-r--r-- 1 root root 9.8M Feb 14 09:31 s_8_cell.deduplicated.bedGraph.gz\n",
            "-rw-r--r-- 1 root root 9.4M Feb 14 09:31 s_8_cell.deduplicated.bismark.cov.gz\n",
            "-rw-r--r-- 1 root root 9.9M Feb 14 09:35 s_8_cell.deduplicated.CpG_report.txt.gz\n",
            "-rw-r--r-- 1 root root 1.6K Feb 14 09:35 s_8_cell.deduplicated.cytosine_context_summary.txt\n",
            "-rw-r--r-- 1 root root  22K Feb 14 09:31 s_8_cell.deduplicated.M-bias.txt\n",
            "-rw-r--r-- 1 root root  840 Feb 14 09:31 s_8_cell.deduplicated_splitting_report.txt\n",
            "drwxr-xr-x 1 root root 4.0K Feb  1 14:32 sample_data\n",
            "-rw-r--r-- 1 root root 524M Feb 14 09:01 sorted_8cell.bam\n",
            "-rw-r--r-- 1 root root 199K Feb 14 09:04 sorted_8cell.bam.bai\n",
            "-rw------- 1 root root 636M Feb 14 08:57 SRR5836473_1_bismark_bt2_pe.bam\n",
            "-rw-r--r-- 1 root root  283 Feb 14 09:07 SRR5836473_1_bismark_bt2_pe.deduplication_report.txt\n",
            "-rw------- 1 root root 1.9K Feb 14 08:58 SRR5836473_1_bismark_bt2_PE_report.txt\n"
          ]
        }
      ]
    },
    {
      "cell_type": "markdown",
      "source": [
        ""
      ],
      "metadata": {
        "id": "1yuRuud-mMK-"
      }
    },
    {
      "cell_type": "code",
      "execution_count": null,
      "metadata": {
        "colab": {
          "base_uri": "https://localhost:8080/"
        },
        "id": "6RQ7FwM-UsSi",
        "outputId": "ed894d64-917a-41f4-8ede-b4eb095376f6"
      },
      "outputs": [
        {
          "output_type": "stream",
          "name": "stdout",
          "text": [
            "Found 1 alignment reports in current directory. Now trying to figure out whether there are corresponding optional reports\n",
            "\n",
            "Writing Bismark HTML report to >> SRR5836473_1_bismark_bt2_PE_report.html <<\n",
            "\n",
            "==============================================================================================================\n",
            "Using the following alignment report:\t\t> SRR5836473_1_bismark_bt2_PE_report.txt <\n",
            "Processing alignment report SRR5836473_1_bismark_bt2_PE_report.txt ...\n",
            "Complete\n",
            "\n",
            "Using the following deduplication report:\t> SRR5836473_1_bismark_bt2_pe.deduplication_report.txt <\n",
            "Processing deduplication report SRR5836473_1_bismark_bt2_pe.deduplication_report.txt ...\n",
            "Complete\n",
            "\n",
            "No splitting report file specified, skipping this step\n",
            "Using the following M-bias report:\t\t> s_8_cell.deduplicated.M-bias.txt <\n",
            "Processing M-bias report s_8_cell.deduplicated.M-bias.txt ...\n",
            "Complete\n",
            "\n",
            "No nucleotide coverage report file specified, skipping this step\n",
            "==============================================================================================================\n",
            "\n",
            "\n"
          ]
        }
      ],
      "source": [
        "! bismark2report -mbias_report s_8_cell.deduplicated.M-bias.txt\n"
      ]
    },
    {
      "cell_type": "code",
      "source": [
        "! head s_8_cell.deduplicated.bedGraph"
      ],
      "metadata": {
        "colab": {
          "base_uri": "https://localhost:8080/"
        },
        "id": "tI5AUYTPliqA",
        "outputId": "ce78ad41-7453-4bba-c532-94e4abedd673"
      },
      "execution_count": null,
      "outputs": [
        {
          "output_type": "stream",
          "name": "stdout",
          "text": [
            "track type=bedGraph\n",
            "chr11\t3100030\t3100031\t50\n",
            "chr11\t3100047\t3100048\t66.6666666666667\n",
            "chr11\t3100048\t3100049\t50\n",
            "chr11\t3100223\t3100224\t87.5\n",
            "chr11\t3100224\t3100225\t53.3333333333333\n",
            "chr11\t3100285\t3100286\t66.6666666666667\n",
            "chr11\t3100286\t3100287\t33.3333333333333\n",
            "chr11\t3100309\t3100310\t62.5\n",
            "chr11\t3100310\t3100311\t50\n"
          ]
        }
      ]
    },
    {
      "cell_type": "code",
      "source": [
        "! head s_8_cell.deduplicated.bismark.cov"
      ],
      "metadata": {
        "colab": {
          "base_uri": "https://localhost:8080/"
        },
        "id": "fcS724jEncto",
        "outputId": "05a52408-c273-4d86-8068-da898f23c4ca"
      },
      "execution_count": null,
      "outputs": [
        {
          "output_type": "stream",
          "name": "stdout",
          "text": [
            "chr11\t3100031\t3100031\t50\t1\t1\n",
            "chr11\t3100048\t3100048\t66.6666666666667\t2\t1\n",
            "chr11\t3100049\t3100049\t50\t1\t1\n",
            "chr11\t3100224\t3100224\t87.5\t7\t1\n",
            "chr11\t3100225\t3100225\t53.3333333333333\t8\t7\n",
            "chr11\t3100286\t3100286\t66.6666666666667\t6\t3\n",
            "chr11\t3100287\t3100287\t33.3333333333333\t5\t10\n",
            "chr11\t3100310\t3100310\t62.5\t5\t3\n",
            "chr11\t3100311\t3100311\t50\t7\t7\n",
            "chr11\t3100349\t3100349\t55.5555555555556\t5\t4\n"
          ]
        }
      ]
    },
    {
      "cell_type": "code",
      "execution_count": null,
      "metadata": {
        "colab": {
          "base_uri": "https://localhost:8080/"
        },
        "id": "b6k9REsM6NXn",
        "outputId": "31c935ba-fab9-402c-bec7-0ccbecdb48eb"
      },
      "outputs": [
        {
          "output_type": "stream",
          "name": "stdout",
          "text": [
            "Requirement already satisfied: pyGenomeTracks in /usr/local/lib/python3.7/site-packages (3.6)\n",
            "Requirement already satisfied: matplotlib<=3.3.2,>=3.1.1 in /usr/local/lib/python3.7/site-packages (from pyGenomeTracks) (3.3.2)\n",
            "Requirement already satisfied: tqdm>=4.20 in /usr/local/lib/python3.7/site-packages (from pyGenomeTracks) (4.59.0)\n",
            "Requirement already satisfied: future>=0.17.0 in /usr/local/lib/python3.7/site-packages (from pyGenomeTracks) (0.18.2)\n",
            "Requirement already satisfied: pytest in /usr/local/lib/python3.7/site-packages (from pyGenomeTracks) (6.2.5)\n",
            "Requirement already satisfied: numpy>=1.16 in /usr/local/lib/python3.7/site-packages (from pyGenomeTracks) (1.21.5)\n",
            "Requirement already satisfied: pybedtools>=0.8.1 in /usr/local/lib/python3.7/site-packages (from pyGenomeTracks) (0.9.0)\n",
            "Requirement already satisfied: intervaltree>=2.1.0 in /usr/local/lib/python3.7/site-packages (from pyGenomeTracks) (3.1.0)\n",
            "Requirement already satisfied: pysam>=0.14 in /usr/local/lib/python3.7/site-packages (from pyGenomeTracks) (0.18.0)\n",
            "Requirement already satisfied: hicmatrix>=15 in /usr/local/lib/python3.7/site-packages (from pyGenomeTracks) (15)\n",
            "Requirement already satisfied: gffutils>=0.9 in /usr/local/lib/python3.7/site-packages (from pyGenomeTracks) (0.10.1)\n",
            "Requirement already satisfied: pyBigWig>=0.3.16 in /usr/local/lib/python3.7/site-packages (from pyGenomeTracks) (0.3.18)\n",
            "Requirement already satisfied: simplejson in /usr/local/lib/python3.7/site-packages (from gffutils>=0.9->pyGenomeTracks) (3.17.6)\n",
            "Requirement already satisfied: argcomplete>=1.9.4 in /usr/local/lib/python3.7/site-packages (from gffutils>=0.9->pyGenomeTracks) (2.0.0)\n",
            "Requirement already satisfied: pyfaidx>=0.5.5.2 in /usr/local/lib/python3.7/site-packages (from gffutils>=0.9->pyGenomeTracks) (0.6.4)\n",
            "Requirement already satisfied: six>=1.12.0 in /usr/local/lib/python3.7/site-packages (from gffutils>=0.9->pyGenomeTracks) (1.15.0)\n",
            "Requirement already satisfied: argh>=0.26.2 in /usr/local/lib/python3.7/site-packages (from gffutils>=0.9->pyGenomeTracks) (0.26.2)\n",
            "Requirement already satisfied: importlib-metadata<5,>=0.23 in /usr/local/lib/python3.7/site-packages (from argcomplete>=1.9.4->gffutils>=0.9->pyGenomeTracks) (4.10.1)\n",
            "Requirement already satisfied: tables>=3.5.* in /usr/local/lib/python3.7/site-packages (from hicmatrix>=15->pyGenomeTracks) (3.7.0)\n",
            "Requirement already satisfied: scipy>=1.2.* in /usr/local/lib/python3.7/site-packages (from hicmatrix>=15->pyGenomeTracks) (1.7.3)\n",
            "Requirement already satisfied: cooler>=0.8.9 in /usr/local/lib/python3.7/site-packages (from hicmatrix>=15->pyGenomeTracks) (0.8.11)\n",
            "Requirement already satisfied: pandas>=0.25.* in /usr/local/lib/python3.7/site-packages (from hicmatrix>=15->pyGenomeTracks) (1.3.5)\n",
            "Requirement already satisfied: asciitree in /usr/local/lib/python3.7/site-packages (from cooler>=0.8.9->hicmatrix>=15->pyGenomeTracks) (0.3.3)\n",
            "Requirement already satisfied: multiprocess in /usr/local/lib/python3.7/site-packages (from cooler>=0.8.9->hicmatrix>=15->pyGenomeTracks) (0.70.12.2)\n",
            "Requirement already satisfied: pypairix in /usr/local/lib/python3.7/site-packages (from cooler>=0.8.9->hicmatrix>=15->pyGenomeTracks) (0.3.7)\n",
            "Requirement already satisfied: h5py>=2.5 in /usr/local/lib/python3.7/site-packages (from cooler>=0.8.9->hicmatrix>=15->pyGenomeTracks) (3.6.0)\n",
            "Requirement already satisfied: click>=7 in /usr/local/lib/python3.7/site-packages (from cooler>=0.8.9->hicmatrix>=15->pyGenomeTracks) (8.0.3)\n",
            "Requirement already satisfied: cytoolz<0.11 in /usr/local/lib/python3.7/site-packages (from cooler>=0.8.9->hicmatrix>=15->pyGenomeTracks) (0.10.1)\n",
            "Requirement already satisfied: pyyaml in /usr/local/lib/python3.7/site-packages (from cooler>=0.8.9->hicmatrix>=15->pyGenomeTracks) (6.0)\n",
            "Requirement already satisfied: toolz>=0.8.0 in /usr/local/lib/python3.7/site-packages (from cytoolz<0.11->cooler>=0.8.9->hicmatrix>=15->pyGenomeTracks) (0.11.2)\n",
            "Requirement already satisfied: cached-property in /usr/local/lib/python3.7/site-packages (from h5py>=2.5->cooler>=0.8.9->hicmatrix>=15->pyGenomeTracks) (1.5.2)\n",
            "Requirement already satisfied: typing-extensions>=3.6.4 in /usr/local/lib/python3.7/site-packages (from importlib-metadata<5,>=0.23->argcomplete>=1.9.4->gffutils>=0.9->pyGenomeTracks) (4.0.1)\n",
            "Requirement already satisfied: zipp>=0.5 in /usr/local/lib/python3.7/site-packages (from importlib-metadata<5,>=0.23->argcomplete>=1.9.4->gffutils>=0.9->pyGenomeTracks) (3.7.0)\n",
            "Requirement already satisfied: sortedcontainers<3.0,>=2.0 in /usr/local/lib/python3.7/site-packages (from intervaltree>=2.1.0->pyGenomeTracks) (2.4.0)\n",
            "Requirement already satisfied: certifi>=2020.06.20 in /usr/local/lib/python3.7/site-packages (from matplotlib<=3.3.2,>=3.1.1->pyGenomeTracks) (2021.10.8)\n",
            "Requirement already satisfied: pyparsing!=2.0.4,!=2.1.2,!=2.1.6,>=2.0.3 in /usr/local/lib/python3.7/site-packages (from matplotlib<=3.3.2,>=3.1.1->pyGenomeTracks) (3.0.7)\n",
            "Requirement already satisfied: python-dateutil>=2.1 in /usr/local/lib/python3.7/site-packages (from matplotlib<=3.3.2,>=3.1.1->pyGenomeTracks) (2.8.2)\n",
            "Requirement already satisfied: cycler>=0.10 in /usr/local/lib/python3.7/site-packages (from matplotlib<=3.3.2,>=3.1.1->pyGenomeTracks) (0.11.0)\n",
            "Requirement already satisfied: pillow>=6.2.0 in /usr/local/lib/python3.7/site-packages (from matplotlib<=3.3.2,>=3.1.1->pyGenomeTracks) (9.0.1)\n",
            "Requirement already satisfied: kiwisolver>=1.0.1 in /usr/local/lib/python3.7/site-packages (from matplotlib<=3.3.2,>=3.1.1->pyGenomeTracks) (1.3.2)\n",
            "Requirement already satisfied: pytz>=2017.3 in /usr/local/lib/python3.7/site-packages (from pandas>=0.25.*->hicmatrix>=15->pyGenomeTracks) (2021.3)\n",
            "Requirement already satisfied: setuptools>=0.7 in /usr/local/lib/python3.7/site-packages (from pyfaidx>=0.5.5.2->gffutils>=0.9->pyGenomeTracks) (49.6.0.post20210108)\n",
            "Requirement already satisfied: numexpr>=2.6.2 in /usr/local/lib/python3.7/site-packages (from tables>=3.5.*->hicmatrix>=15->pyGenomeTracks) (2.8.1)\n",
            "Requirement already satisfied: packaging in /usr/local/lib/python3.7/site-packages (from tables>=3.5.*->hicmatrix>=15->pyGenomeTracks) (21.3)\n",
            "Requirement already satisfied: dill>=0.3.4 in /usr/local/lib/python3.7/site-packages (from multiprocess->cooler>=0.8.9->hicmatrix>=15->pyGenomeTracks) (0.3.4)\n",
            "Requirement already satisfied: pluggy<2.0,>=0.12 in /usr/local/lib/python3.7/site-packages (from pytest->pyGenomeTracks) (1.0.0)\n",
            "Requirement already satisfied: py>=1.8.2 in /usr/local/lib/python3.7/site-packages (from pytest->pyGenomeTracks) (1.11.0)\n",
            "Requirement already satisfied: toml in /usr/local/lib/python3.7/site-packages (from pytest->pyGenomeTracks) (0.10.2)\n",
            "Requirement already satisfied: iniconfig in /usr/local/lib/python3.7/site-packages (from pytest->pyGenomeTracks) (1.1.1)\n",
            "Requirement already satisfied: attrs>=19.2.0 in /usr/local/lib/python3.7/site-packages (from pytest->pyGenomeTracks) (21.4.0)\n"
          ]
        }
      ],
      "source": [
        "! pip install pyGenomeTracks"
      ]
    },
    {
      "cell_type": "code",
      "source": [
        "!pip install -U ipykernel\n"
      ],
      "metadata": {
        "colab": {
          "base_uri": "https://localhost:8080/",
          "height": 1000
        },
        "id": "fcsJWNmHo1i-",
        "outputId": "e96a1642-abff-46ba-fede-0766677b2143"
      },
      "execution_count": null,
      "outputs": [
        {
          "output_type": "stream",
          "name": "stdout",
          "text": [
            "Collecting ipykernel\n",
            "  Downloading ipykernel-6.8.0-py3-none-any.whl (128 kB)\n",
            "\u001b[?25l\r\u001b[K     |██▌                             | 10 kB 20.9 MB/s eta 0:00:01\r\u001b[K     |█████                           | 20 kB 24.6 MB/s eta 0:00:01\r\u001b[K     |███████▋                        | 30 kB 18.4 MB/s eta 0:00:01\r\u001b[K     |██████████▏                     | 40 kB 15.0 MB/s eta 0:00:01\r\u001b[K     |████████████▊                   | 51 kB 8.7 MB/s eta 0:00:01\r\u001b[K     |███████████████▎                | 61 kB 9.4 MB/s eta 0:00:01\r\u001b[K     |█████████████████▉              | 71 kB 8.6 MB/s eta 0:00:01\r\u001b[K     |████████████████████▍           | 81 kB 9.5 MB/s eta 0:00:01\r\u001b[K     |███████████████████████         | 92 kB 10.1 MB/s eta 0:00:01\r\u001b[K     |█████████████████████████▌      | 102 kB 8.3 MB/s eta 0:00:01\r\u001b[K     |████████████████████████████    | 112 kB 8.3 MB/s eta 0:00:01\r\u001b[K     |██████████████████████████████▋ | 122 kB 8.3 MB/s eta 0:00:01\r\u001b[K     |████████████████████████████████| 128 kB 8.3 MB/s \n",
            "\u001b[?25hCollecting nest-asyncio\n",
            "  Downloading nest_asyncio-1.5.4-py3-none-any.whl (5.1 kB)\n",
            "Collecting matplotlib-inline<0.2.0,>=0.1.0\n",
            "  Downloading matplotlib_inline-0.1.3-py3-none-any.whl (8.2 kB)\n",
            "Collecting tornado<7.0,>=4.2\n",
            "  Downloading tornado-6.1-cp37-cp37m-manylinux2010_x86_64.whl (428 kB)\n",
            "\u001b[K     |████████████████████████████████| 428 kB 50.9 MB/s \n",
            "\u001b[?25hCollecting debugpy<2.0,>=1.0.0\n",
            "  Downloading debugpy-1.5.1-cp37-cp37m-manylinux_2_5_x86_64.manylinux1_x86_64.manylinux_2_12_x86_64.manylinux2010_x86_64.whl (1.9 MB)\n",
            "\u001b[K     |████████████████████████████████| 1.9 MB 51.5 MB/s \n",
            "\u001b[?25hCollecting jupyter-client<8.0\n",
            "  Downloading jupyter_client-7.1.2-py3-none-any.whl (130 kB)\n",
            "\u001b[K     |████████████████████████████████| 130 kB 54.6 MB/s \n",
            "\u001b[?25hCollecting ipython>=7.23.1\n",
            "  Downloading ipython-7.31.1-py3-none-any.whl (792 kB)\n",
            "\u001b[K     |████████████████████████████████| 792 kB 53.2 MB/s \n",
            "\u001b[?25hCollecting traitlets<6.0,>=5.1.0\n",
            "  Downloading traitlets-5.1.1-py3-none-any.whl (102 kB)\n",
            "\u001b[K     |████████████████████████████████| 102 kB 12.1 MB/s \n",
            "\u001b[?25hCollecting prompt-toolkit!=3.0.0,!=3.0.1,<3.1.0,>=2.0.0\n",
            "  Downloading prompt_toolkit-3.0.26-py3-none-any.whl (375 kB)\n",
            "\u001b[K     |████████████████████████████████| 375 kB 54.0 MB/s \n",
            "\u001b[?25hCollecting backcall\n",
            "  Downloading backcall-0.2.0-py2.py3-none-any.whl (11 kB)\n",
            "Collecting decorator\n",
            "  Downloading decorator-5.1.1-py3-none-any.whl (9.1 kB)\n",
            "Collecting jedi>=0.16\n",
            "  Downloading jedi-0.18.1-py2.py3-none-any.whl (1.6 MB)\n",
            "\u001b[K     |████████████████████████████████| 1.6 MB 56.1 MB/s \n",
            "\u001b[?25hRequirement already satisfied: setuptools>=18.5 in /usr/local/lib/python3.7/site-packages (from ipython>=7.23.1->ipykernel) (60.7.0)\n",
            "Collecting pygments\n",
            "  Downloading Pygments-2.11.2-py3-none-any.whl (1.1 MB)\n",
            "\u001b[K     |████████████████████████████████| 1.1 MB 60.1 MB/s \n",
            "\u001b[?25hCollecting pickleshare\n",
            "  Downloading pickleshare-0.7.5-py2.py3-none-any.whl (6.9 kB)\n",
            "Collecting pexpect>4.3\n",
            "  Downloading pexpect-4.8.0-py2.py3-none-any.whl (59 kB)\n",
            "\u001b[K     |████████████████████████████████| 59 kB 6.9 MB/s \n",
            "\u001b[?25hCollecting parso<0.9.0,>=0.8.0\n",
            "  Downloading parso-0.8.3-py2.py3-none-any.whl (100 kB)\n",
            "\u001b[K     |████████████████████████████████| 100 kB 12.3 MB/s \n",
            "\u001b[?25hCollecting pyzmq>=13\n",
            "  Downloading pyzmq-22.3.0-cp37-cp37m-manylinux_2_5_x86_64.manylinux1_x86_64.whl (1.1 MB)\n",
            "\u001b[K     |████████████████████████████████| 1.1 MB 68.4 MB/s \n",
            "\u001b[?25hRequirement already satisfied: python-dateutil>=2.1 in /usr/local/lib/python3.7/site-packages (from jupyter-client<8.0->ipykernel) (2.8.2)\n",
            "Collecting entrypoints\n",
            "  Downloading entrypoints-0.4-py3-none-any.whl (5.3 kB)\n",
            "Collecting jupyter-core>=4.6.0\n",
            "  Downloading jupyter_core-4.9.1-py3-none-any.whl (86 kB)\n",
            "\u001b[K     |████████████████████████████████| 86 kB 6.2 MB/s \n",
            "\u001b[?25hCollecting ptyprocess>=0.5\n",
            "  Downloading ptyprocess-0.7.0-py2.py3-none-any.whl (13 kB)\n",
            "Collecting wcwidth\n",
            "  Downloading wcwidth-0.2.5-py2.py3-none-any.whl (30 kB)\n",
            "Requirement already satisfied: six>=1.5 in /usr/local/lib/python3.7/site-packages (from python-dateutil>=2.1->jupyter-client<8.0->ipykernel) (1.16.0)\n",
            "Installing collected packages: wcwidth, traitlets, ptyprocess, parso, tornado, pyzmq, pygments, prompt-toolkit, pickleshare, pexpect, nest-asyncio, matplotlib-inline, jupyter-core, jedi, entrypoints, decorator, backcall, jupyter-client, ipython, debugpy, ipykernel\n",
            "Successfully installed backcall-0.2.0 debugpy-1.5.1 decorator-5.1.1 entrypoints-0.4 ipykernel-6.8.0 ipython-7.31.1 jedi-0.18.1 jupyter-client-7.1.2 jupyter-core-4.9.1 matplotlib-inline-0.1.3 nest-asyncio-1.5.4 parso-0.8.3 pexpect-4.8.0 pickleshare-0.7.5 prompt-toolkit-3.0.26 ptyprocess-0.7.0 pygments-2.11.2 pyzmq-22.3.0 tornado-6.1 traitlets-5.1.1 wcwidth-0.2.5\n"
          ]
        },
        {
          "output_type": "display_data",
          "data": {
            "application/vnd.colab-display-data+json": {
              "pip_warning": {
                "packages": [
                  "jupyter_core",
                  "pexpect",
                  "pickleshare",
                  "traitlets",
                  "wcwidth",
                  "zmq"
                ]
              }
            }
          },
          "metadata": {}
        }
      ]
    },
    {
      "cell_type": "code",
      "source": [
        "! conda install -c bioconda ucsc-fetchchromsizes"
      ],
      "metadata": {
        "colab": {
          "base_uri": "https://localhost:8080/"
        },
        "id": "UhIKyKz_t7yy",
        "outputId": "607dfac5-3f6d-4ee7-97b2-a68677691a06"
      },
      "execution_count": null,
      "outputs": [
        {
          "output_type": "stream",
          "name": "stdout",
          "text": [
            "Collecting package metadata (current_repodata.json): - \b\b\\ \b\b| \b\b/ \b\b- \b\b\\ \b\b| \b\b/ \b\b- \b\b\\ \b\b| \b\b/ \b\b- \b\b\\ \b\b| \b\b/ \b\b- \b\b\\ \b\b| \b\b/ \b\b- \b\b\\ \b\b| \b\b/ \b\b- \b\b\\ \b\b| \b\b/ \b\b- \b\b\\ \b\bdone\n",
            "Solving environment: / \b\b- \b\b\\ \b\b| \b\b/ \b\b- \b\b\\ \b\b| \b\b/ \b\b- \b\b\\ \b\b| \b\b/ \b\bdone\n",
            "\n",
            "## Package Plan ##\n",
            "\n",
            "  environment location: /usr/local\n",
            "\n",
            "  added / updated specs:\n",
            "    - ucsc-fetchchromsizes\n",
            "\n",
            "\n",
            "The following packages will be downloaded:\n",
            "\n",
            "    package                    |            build\n",
            "    ---------------------------|-----------------\n",
            "    ucsc-fetchchromsizes-377   |       ha8a8165_3           8 KB  bioconda\n",
            "    ------------------------------------------------------------\n",
            "                                           Total:           8 KB\n",
            "\n",
            "The following NEW packages will be INSTALLED:\n",
            "\n",
            "  ucsc-fetchchromsi~ bioconda/linux-64::ucsc-fetchchromsizes-377-ha8a8165_3\n",
            "\n",
            "\n",
            "\n",
            "Downloading and Extracting Packages\n",
            "ucsc-fetchchromsizes | 8 KB      | : 100% 1.0/1 [00:00<00:00,  4.60it/s]\n",
            "Preparing transaction: \\ \b\bdone\n",
            "Verifying transaction: / \b\bdone\n",
            "Executing transaction: \\ \b\bdone\n"
          ]
        }
      ]
    },
    {
      "cell_type": "code",
      "source": [
        "! fetchChromSizes mm10 > m.chrom.sizes"
      ],
      "metadata": {
        "colab": {
          "base_uri": "https://localhost:8080/"
        },
        "id": "LZpspVUvt4EY",
        "outputId": "343d4ea5-ebce-42e2-dc7a-356cb3c96be9"
      },
      "execution_count": null,
      "outputs": [
        {
          "output_type": "stream",
          "name": "stdout",
          "text": [
            "INFO: trying CURL  for database mm10\n",
            "url: http://hgdownload.soe.ucsc.edu/goldenPath/mm10/bigZips/mm10.chrom.sizes\n"
          ]
        }
      ]
    },
    {
      "cell_type": "code",
      "source": [
        "! conda install -c bioconda ucsc-bedgraphtobigwig"
      ],
      "metadata": {
        "colab": {
          "base_uri": "https://localhost:8080/"
        },
        "id": "svn9iAuGtVxX",
        "outputId": "d743482d-07bf-4f24-fd49-cc3b4a264d96"
      },
      "execution_count": null,
      "outputs": [
        {
          "output_type": "stream",
          "name": "stdout",
          "text": [
            "Collecting package metadata (current_repodata.json): - \b\b\\ \b\b| \b\b/ \b\b- \b\b\\ \b\b| \b\b/ \b\b- \b\b\\ \b\b| \b\b/ \b\b- \b\b\\ \b\b| \b\b/ \b\b- \b\b\\ \b\b| \b\bdone\n",
            "Solving environment: - \b\b\\ \b\b| \b\b/ \b\b- \b\b\\ \b\b| \b\b/ \b\b- \b\b\\ \b\b| \b\b/ \b\b- \b\b\\ \b\b| \b\b/ \b\bdone\n",
            "\n",
            "## Package Plan ##\n",
            "\n",
            "  environment location: /usr/local\n",
            "\n",
            "  added / updated specs:\n",
            "    - ucsc-bedgraphtobigwig\n",
            "\n",
            "\n",
            "The following packages will be downloaded:\n",
            "\n",
            "    package                    |            build\n",
            "    ---------------------------|-----------------\n",
            "    libuuid-2.32.1             |    h7f98852_1000          28 KB  conda-forge\n",
            "    mysql-connector-c-6.1.11   |    h6eb9d5d_1007         2.7 MB  conda-forge\n",
            "    ucsc-bedgraphtobigwig-377  |       ha8a8165_3         155 KB  bioconda\n",
            "    ------------------------------------------------------------\n",
            "                                           Total:         2.8 MB\n",
            "\n",
            "The following NEW packages will be INSTALLED:\n",
            "\n",
            "  libpng             conda-forge/linux-64::libpng-1.6.37-h21135ba_2\n",
            "  libuuid            conda-forge/linux-64::libuuid-2.32.1-h7f98852_1000\n",
            "  mysql-connector-c  conda-forge/linux-64::mysql-connector-c-6.1.11-h6eb9d5d_1007\n",
            "  ucsc-bedgraphtobi~ bioconda/linux-64::ucsc-bedgraphtobigwig-377-ha8a8165_3\n",
            "\n",
            "\n",
            "\n",
            "Downloading and Extracting Packages\n",
            "libuuid-2.32.1       | 28 KB     | : 100% 1.0/1 [00:00<00:00,  6.53it/s]              \n",
            "ucsc-bedgraphtobigwi | 155 KB    | : 100% 1.0/1 [00:00<00:00,  9.37it/s]\n",
            "mysql-connector-c-6. | 2.7 MB    | : 100% 1.0/1 [00:00<00:00,  1.88it/s]               \n",
            "Preparing transaction: \\ \b\bdone\n",
            "Verifying transaction: / \b\b- \b\bdone\n",
            "Executing transaction: | \b\bdone\n"
          ]
        }
      ]
    },
    {
      "cell_type": "code",
      "source": [
        "! bedGraphToBigWig  s_8_cell.deduplicated.bedGraph m.chrom.sizes cell8_methylation.bigWig"
      ],
      "metadata": {
        "id": "rh0ba_Y_tcq5"
      },
      "execution_count": null,
      "outputs": []
    },
    {
      "cell_type": "code",
      "source": [
        "! head s_8_cell.deduplicated.bedGraph"
      ],
      "metadata": {
        "colab": {
          "base_uri": "https://localhost:8080/"
        },
        "id": "qofYnYciunf8",
        "outputId": "cad6d289-ceaf-48bf-be19-6715b8a6155d"
      },
      "execution_count": null,
      "outputs": [
        {
          "output_type": "stream",
          "name": "stdout",
          "text": [
            "track type=bedGraph\n",
            "chr11\t3100030\t3100031\t50\n",
            "chr11\t3100047\t3100048\t66.6666666666667\n",
            "chr11\t3100048\t3100049\t50\n",
            "chr11\t3100223\t3100224\t87.5\n",
            "chr11\t3100224\t3100225\t53.3333333333333\n",
            "chr11\t3100285\t3100286\t66.6666666666667\n",
            "chr11\t3100286\t3100287\t33.3333333333333\n",
            "chr11\t3100309\t3100310\t62.5\n",
            "chr11\t3100310\t3100311\t50\n"
          ]
        }
      ]
    },
    {
      "cell_type": "code",
      "source": [
        "! apt-get install bedtools"
      ],
      "metadata": {
        "colab": {
          "base_uri": "https://localhost:8080/"
        },
        "id": "XEWV8p4ku-Hy",
        "outputId": "596dfae5-029a-4a64-efe0-fc42fdabfc3e"
      },
      "execution_count": null,
      "outputs": [
        {
          "output_type": "stream",
          "name": "stdout",
          "text": [
            "Reading package lists... Done\n",
            "Building dependency tree       \n",
            "Reading state information... Done\n",
            "The following packages were automatically installed and are no longer required:\n",
            "  cuda-command-line-tools-10-0 cuda-command-line-tools-10-1\n",
            "  cuda-command-line-tools-11-0 cuda-compiler-10-0 cuda-compiler-10-1\n",
            "  cuda-compiler-11-0 cuda-cuobjdump-10-0 cuda-cuobjdump-10-1\n",
            "  cuda-cuobjdump-11-0 cuda-cupti-10-0 cuda-cupti-10-1 cuda-cupti-11-0\n",
            "  cuda-cupti-dev-11-0 cuda-documentation-10-0 cuda-documentation-10-1\n",
            "  cuda-documentation-11-0 cuda-documentation-11-1 cuda-gdb-10-0 cuda-gdb-10-1\n",
            "  cuda-gdb-11-0 cuda-gpu-library-advisor-10-0 cuda-gpu-library-advisor-10-1\n",
            "  cuda-libraries-10-0 cuda-libraries-10-1 cuda-libraries-11-0\n",
            "  cuda-memcheck-10-0 cuda-memcheck-10-1 cuda-memcheck-11-0 cuda-nsight-10-0\n",
            "  cuda-nsight-10-1 cuda-nsight-11-0 cuda-nsight-11-1 cuda-nsight-compute-10-0\n",
            "  cuda-nsight-compute-10-1 cuda-nsight-compute-11-0 cuda-nsight-compute-11-1\n",
            "  cuda-nsight-systems-10-1 cuda-nsight-systems-11-0 cuda-nsight-systems-11-1\n",
            "  cuda-nvcc-10-0 cuda-nvcc-10-1 cuda-nvcc-11-0 cuda-nvdisasm-10-0\n",
            "  cuda-nvdisasm-10-1 cuda-nvdisasm-11-0 cuda-nvml-dev-10-0 cuda-nvml-dev-10-1\n",
            "  cuda-nvml-dev-11-0 cuda-nvprof-10-0 cuda-nvprof-10-1 cuda-nvprof-11-0\n",
            "  cuda-nvprune-10-0 cuda-nvprune-10-1 cuda-nvprune-11-0 cuda-nvtx-10-0\n",
            "  cuda-nvtx-10-1 cuda-nvtx-11-0 cuda-nvvp-10-0 cuda-nvvp-10-1 cuda-nvvp-11-0\n",
            "  cuda-nvvp-11-1 cuda-samples-10-0 cuda-samples-10-1 cuda-samples-11-0\n",
            "  cuda-samples-11-1 cuda-sanitizer-11-0 cuda-sanitizer-api-10-1\n",
            "  cuda-toolkit-10-0 cuda-toolkit-10-1 cuda-toolkit-11-0 cuda-toolkit-11-1\n",
            "  cuda-tools-10-0 cuda-tools-10-1 cuda-tools-11-0 cuda-tools-11-1\n",
            "  cuda-visual-tools-10-0 cuda-visual-tools-10-1 cuda-visual-tools-11-0\n",
            "  cuda-visual-tools-11-1 default-jre dkms freeglut3 freeglut3-dev\n",
            "  keyboard-configuration libargon2-0 libcap2 libcryptsetup12\n",
            "  libdevmapper1.02.1 libfontenc1 libidn11 libip4tc0 libjansson4\n",
            "  libnvidia-cfg1-510 libnvidia-common-460 libnvidia-common-510\n",
            "  libnvidia-extra-510 libnvidia-fbc1-510 libnvidia-gl-510 libpam-systemd\n",
            "  libpolkit-agent-1-0 libpolkit-backend-1-0 libpolkit-gobject-1-0 libxfont2\n",
            "  libxi-dev libxkbfile1 libxmu-dev libxmu-headers libxnvctrl0 libxtst6\n",
            "  nsight-compute-2020.2.1 nsight-compute-2022.1.0 nsight-systems-2020.3.2\n",
            "  nsight-systems-2020.3.4 nsight-systems-2021.5.2 nvidia-dkms-510\n",
            "  nvidia-kernel-common-510 nvidia-kernel-source-510 nvidia-modprobe\n",
            "  nvidia-settings openjdk-11-jre policykit-1 policykit-1-gnome python3-xkit\n",
            "  screen-resolution-extra systemd systemd-sysv udev x11-xkb-utils\n",
            "  xserver-common xserver-xorg-core-hwe-18.04 xserver-xorg-video-nvidia-510\n",
            "Use 'apt autoremove' to remove them.\n",
            "The following NEW packages will be installed:\n",
            "  bedtools\n",
            "0 upgraded, 1 newly installed, 0 to remove and 39 not upgraded.\n",
            "Need to get 577 kB of archives.\n",
            "After this operation, 2,040 kB of additional disk space will be used.\n",
            "Get:1 http://archive.ubuntu.com/ubuntu bionic/universe amd64 bedtools amd64 2.26.0+dfsg-5 [577 kB]\n",
            "Fetched 577 kB in 1s (489 kB/s)\n",
            "Selecting previously unselected package bedtools.\n",
            "(Reading database ... 155113 files and directories currently installed.)\n",
            "Preparing to unpack .../bedtools_2.26.0+dfsg-5_amd64.deb ...\n",
            "Unpacking bedtools (2.26.0+dfsg-5) ...\n",
            "Setting up bedtools (2.26.0+dfsg-5) ...\n"
          ]
        }
      ]
    },
    {
      "cell_type": "code",
      "source": [
        "! bedtools genomecov -bg -ibam s_8_cell.deduplicated.bam -g m.chromSizes  >  s_8_cell.cover.bedGraph"
      ],
      "metadata": {
        "id": "ofhSsnSqvBbu"
      },
      "execution_count": null,
      "outputs": []
    },
    {
      "cell_type": "code",
      "source": [
        "! bedGraphToBigWig   s_8_cell.cover.bedGraph m.chrom.sizes cell8_coverage.bigWig"
      ],
      "metadata": {
        "id": "RLpT4wFCvr29"
      },
      "execution_count": null,
      "outputs": []
    },
    {
      "cell_type": "code",
      "source": [
        "! head s_8_cell.deduplicated.bedGraph"
      ],
      "metadata": {
        "colab": {
          "base_uri": "https://localhost:8080/"
        },
        "id": "0egk8Q4VvXss",
        "outputId": "a71cb456-70e7-4ab2-8f85-d6868b6ead94"
      },
      "execution_count": null,
      "outputs": [
        {
          "output_type": "stream",
          "name": "stdout",
          "text": [
            "track type=bedGraph\n",
            "chr11\t3100030\t3100031\t50\n",
            "chr11\t3100047\t3100048\t66.6666666666667\n",
            "chr11\t3100048\t3100049\t50\n",
            "chr11\t3100223\t3100224\t87.5\n",
            "chr11\t3100224\t3100225\t53.3333333333333\n",
            "chr11\t3100285\t3100286\t66.6666666666667\n",
            "chr11\t3100286\t3100287\t33.3333333333333\n",
            "chr11\t3100309\t3100310\t62.5\n",
            "chr11\t3100310\t3100311\t50\n"
          ]
        }
      ]
    },
    {
      "cell_type": "code",
      "source": [
        "! pyGenomeTracks --tracks tracks.ini.txt --region chr11:3100030-3500030 -o image_cov.png"
      ],
      "metadata": {
        "colab": {
          "base_uri": "https://localhost:8080/"
        },
        "id": "bAaOdZCKsVtX",
        "outputId": "87e15cec-5977-4453-dffa-97ad89796c34"
      },
      "execution_count": null,
      "outputs": [
        {
          "output_type": "stream",
          "name": "stdout",
          "text": [
            "INFO:pygenometracks.tracksClass:initialize 1. [bigwig file test]\n",
            "INFO:pygenometracks.tracksClass:initialize 2. [test bedgraph]\n",
            "100% 7810/7810 [00:00<00:00, 22280.01it/s]\n",
            "INFO:pygenometracks.tracksClass:time initializing track(s):\n",
            "INFO:pygenometracks.tracksClass:1.160700798034668\n",
            "DEBUG:pygenometracks.tracksClass:Figure size in cm is 40 x 9.574468085106384. Dpi is set to 72\n",
            "\n",
            "INFO:pygenometracks.tracksClass:plotting 1. [bigwig file test]\n",
            "INFO:pygenometracks.tracksClass:plotting 2. [test bedgraph]\n"
          ]
        }
      ]
    },
    {
      "cell_type": "code",
      "source": [
        ""
      ],
      "metadata": {
        "id": "p7CjvnFhwpyL"
      },
      "execution_count": null,
      "outputs": []
    }
  ],
  "metadata": {
    "colab": {
      "collapsed_sections": [],
      "name": "Methylation.ipynb",
      "provenance": [],
      "include_colab_link": true
    },
    "kernelspec": {
      "display_name": "Python 3",
      "name": "python3"
    },
    "language_info": {
      "name": "python"
    }
  },
  "nbformat": 4,
  "nbformat_minor": 0
}